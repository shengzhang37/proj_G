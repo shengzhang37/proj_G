{
 "cells": [
  {
   "cell_type": "markdown",
   "metadata": {},
   "source": [
    "## Generate a simple social graph"
   ]
  },
  {
   "cell_type": "code",
   "execution_count": 1,
   "metadata": {},
   "outputs": [],
   "source": [
    "# -*- coding: utf-8 -*-\n",
    "import logging\n",
    "import random\n",
    "\n",
    "import numpy as np\n",
    "\n",
    "\n",
    "class SBM(object):\n",
    "\n",
    "    def __init__(self, num_vertices, communities, vertex_labels, p_matrix):\n",
    "        logging.info('Initializing SBM Model ...')\n",
    "        self.num_vertices = num_vertices\n",
    "        self.communities = communities\n",
    "        self.vertex_labels = vertex_labels\n",
    "        self.p_matrix = p_matrix\n",
    "        self.block_matrix = self.generate(self.num_vertices, self.communities, self.vertex_labels, self.p_matrix)\n",
    "\n",
    "    def detect(self):\n",
    "        logging.info('SBM detection ...')\n",
    "        pass\n",
    "\n",
    "    def generate(self, num_vertices, num_communities, vertex_labels, p_matrix):\n",
    "        logging.info('Generating SBM (directed graph) ...')\n",
    "        v_label_shape = (1, num_vertices)\n",
    "        p_matrix_shape = (num_communities, num_communities)\n",
    "        block_matrix_shape = (num_vertices, num_vertices)\n",
    "        block_matrix = np.zeros(block_matrix_shape, dtype=int)\n",
    "\n",
    "        for row, _row in enumerate(block_matrix):\n",
    "            for col, _col in enumerate(block_matrix[row]):\n",
    "                community_a = vertex_labels[row]\n",
    "                community_b = vertex_labels[col]\n",
    "\n",
    "                p = random.random()\n",
    "                val = p_matrix[community_a][community_b]\n",
    "\n",
    "                if p <= val:\n",
    "                    block_matrix[row][col] = 1\n",
    "\n",
    "        return block_matrix\n",
    "\n",
    "    def recover(self):\n",
    "        logging.info('SBM recovery ...')\n",
    "        pass"
   ]
  },
  {
   "cell_type": "code",
   "execution_count": null,
   "metadata": {},
   "outputs": [],
   "source": []
  }
 ],
 "metadata": {
  "kernelspec": {
   "display_name": "Python 3",
   "language": "python",
   "name": "python3"
  },
  "language_info": {
   "codemirror_mode": {
    "name": "ipython",
    "version": 3
   },
   "file_extension": ".py",
   "mimetype": "text/x-python",
   "name": "python",
   "nbconvert_exporter": "python",
   "pygments_lexer": "ipython3",
   "version": "3.6.6"
  }
 },
 "nbformat": 4,
 "nbformat_minor": 2
}
