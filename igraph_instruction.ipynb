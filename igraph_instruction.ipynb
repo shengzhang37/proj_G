{
 "cells": [
  {
   "cell_type": "markdown",
   "metadata": {},
   "source": [
    "## Generate a simple social graph"
   ]
  },
  {
   "cell_type": "markdown",
   "metadata": {},
   "source": [
    "[python-igraph Manual](http://igraph.org/python/doc/tutorial/tutorial.html)"
   ]
  },
  {
   "cell_type": "code",
   "execution_count": 10,
   "metadata": {},
   "outputs": [
    {
     "name": "stdout",
     "output_type": "stream",
     "text": [
      "0.7.1\n"
     ]
    }
   ],
   "source": [
    "import igraph\n",
    "print(igraph.__version__)\n"
   ]
  },
  {
   "cell_type": "code",
   "execution_count": 11,
   "metadata": {},
   "outputs": [],
   "source": [
    "from igraph import *"
   ]
  },
  {
   "cell_type": "code",
   "execution_count": 12,
   "metadata": {},
   "outputs": [],
   "source": [
    "g = Graph()"
   ]
  },
  {
   "cell_type": "code",
   "execution_count": 25,
   "metadata": {},
   "outputs": [
    {
     "name": "stdout",
     "output_type": "stream",
     "text": [
      "IGRAPH U--- 0 0 --\n"
     ]
    }
   ],
   "source": [
    "print(g)"
   ]
  },
  {
   "cell_type": "code",
   "execution_count": 26,
   "metadata": {},
   "outputs": [],
   "source": [
    "g.add_vertices(3)"
   ]
  },
  {
   "cell_type": "code",
   "execution_count": 27,
   "metadata": {},
   "outputs": [],
   "source": [
    "g.add_edges([(0,1), (1,2)])"
   ]
  },
  {
   "cell_type": "code",
   "execution_count": 23,
   "metadata": {},
   "outputs": [
    {
     "name": "stdout",
     "output_type": "stream",
     "text": [
      "IGRAPH U--- 0 0 --\n"
     ]
    }
   ],
   "source": [
    "print(g)"
   ]
  },
  {
   "cell_type": "code",
   "execution_count": 29,
   "metadata": {},
   "outputs": [
    {
     "name": "stdout",
     "output_type": "stream",
     "text": [
      "IGRAPH U--- 6 7 --\n",
      "+ edges:\n",
      "0--1 1--2 0--2 2--3 3--4 4--5 3--5\n"
     ]
    }
   ],
   "source": [
    "g.add_edges([(2,0)])\n",
    "g.add_vertices(3)\n",
    "g.add_edges([(2,3),(3,4),(4,5),(5,3)])\n",
    "print(g)"
   ]
  },
  {
   "cell_type": "code",
   "execution_count": 30,
   "metadata": {},
   "outputs": [
    {
     "name": "stdout",
     "output_type": "stream",
     "text": [
      "IGRAPH U--- 6 8 --\n",
      "+ edges:\n",
      "0--1 1--2 0--2 2--3 3--4 4--5 3--5 0--2\n"
     ]
    }
   ],
   "source": [
    "g.add_edges([(2,0)])\n",
    "print(g) >>> multi-edges"
   ]
  },
  {
   "cell_type": "code",
   "execution_count": 31,
   "metadata": {},
   "outputs": [
    {
     "data": {
      "text/plain": [
       "3"
      ]
     },
     "execution_count": 31,
     "metadata": {},
     "output_type": "execute_result"
    }
   ],
   "source": [
    "g.get_eid(2,3)"
   ]
  },
  {
   "cell_type": "code",
   "execution_count": 32,
   "metadata": {},
   "outputs": [],
   "source": [
    "g.delete_edges(3)"
   ]
  },
  {
   "cell_type": "code",
   "execution_count": 33,
   "metadata": {},
   "outputs": [
    {
     "name": "stdout",
     "output_type": "stream",
     "text": [
      "IGRAPH U--- 6 7 -- \n"
     ]
    }
   ],
   "source": [
    "summary(g)"
   ]
  },
  {
   "cell_type": "markdown",
   "metadata": {},
   "source": [
    "Graph.Tree() generates a regular tree graph. The one that we generated has 127 vertices and each vertex (apart from the leaves) has two children (and of course one parent).(简单的说就是每个点恰有两个分支) No matter how many times you call Graph.Tree(), the generated graph will always be the same if you use the same parameters:"
   ]
  },
  {
   "cell_type": "code",
   "execution_count": 34,
   "metadata": {},
   "outputs": [],
   "source": [
    "g = Graph.Tree(127, 2)"
   ]
  },
  {
   "cell_type": "code",
   "execution_count": 35,
   "metadata": {},
   "outputs": [
    {
     "name": "stdout",
     "output_type": "stream",
     "text": [
      "IGRAPH U--- 127 126 -- \n"
     ]
    }
   ],
   "source": [
    "summary(g)"
   ]
  },
  {
   "cell_type": "code",
   "execution_count": 39,
   "metadata": {},
   "outputs": [
    {
     "data": {
      "text/plain": [
       "True"
      ]
     },
     "execution_count": 39,
     "metadata": {},
     "output_type": "execute_result"
    }
   ],
   "source": [
    "g2 = Graph.Tree(127, 2)\n",
    "g2.get_edgelist() == g.get_edgelist()"
   ]
  },
  {
   "cell_type": "code",
   "execution_count": 42,
   "metadata": {},
   "outputs": [
    {
     "data": {
      "text/plain": [
       "[(0, 1),\n",
       " (0, 2),\n",
       " (1, 3),\n",
       " (1, 4),\n",
       " (2, 5),\n",
       " (2, 6),\n",
       " (3, 7),\n",
       " (3, 8),\n",
       " (4, 9),\n",
       " (4, 10)]"
      ]
     },
     "execution_count": 42,
     "metadata": {},
     "output_type": "execute_result"
    }
   ],
   "source": [
    "g2.get_edgelist()[0:10]  # 画出来就知道了"
   ]
  },
  {
   "cell_type": "markdown",
   "metadata": {},
   "source": [
    "Graph.GRG() generates a geometric random graph: n points are chosen randomly and uniformly inside the unit square (单位正方形) and pairs of points closer to each other than a predefined distance d are connected by an edge. In our case, n is 100 and d is 0.2. Due to the random nature of the algorithm, chances are that the exact graph you got is different from the one that was generated when I wrote this tutorial, hence the values above in the summary will not match the ones you got. This is normal and expected. Even if you generate two geometric random graphs on the same machine, they will be different for the same parameter set:"
   ]
  },
  {
   "cell_type": "code",
   "execution_count": 41,
   "metadata": {},
   "outputs": [
    {
     "name": "stdout",
     "output_type": "stream",
     "text": [
      "IGRAPH U--- 100 551 -- \n",
      "+ attr: x (v), y (v)\n"
     ]
    }
   ],
   "source": [
    "g = Graph.GRG(100, 0.2)\n",
    "summary(g)"
   ]
  },
  {
   "cell_type": "code",
   "execution_count": 43,
   "metadata": {},
   "outputs": [
    {
     "data": {
      "text/plain": [
       "False"
      ]
     },
     "execution_count": 43,
     "metadata": {},
     "output_type": "execute_result"
    }
   ],
   "source": [
    "g2 = Graph.GRG(100, 0.2)\n",
    "g.get_edgelist() == g2.get_edgelist()"
   ]
  },
  {
   "cell_type": "markdown",
   "metadata": {},
   "source": [
    "isomorphic() tells you whether two graphs are isomorphic(同构) or not. In general, it might take quite a lot of time, especially for large graphs, but in our case, the answer can quickly be given by checking the degree distributions of the two graphs."
   ]
  },
  {
   "cell_type": "code",
   "execution_count": 45,
   "metadata": {},
   "outputs": [
    {
     "data": {
      "text/plain": [
       "False"
      ]
     },
     "execution_count": 45,
     "metadata": {},
     "output_type": "execute_result"
    }
   ],
   "source": [
    "g.isomorphic(g2)"
   ]
  },
  {
   "cell_type": "markdown",
   "metadata": {},
   "source": [
    "## [Setting and retrieving attributes](http://igraph.org/python/doc/tutorial/tutorial.html#setting-and-retrieving-attributes)"
   ]
  },
  {
   "cell_type": "markdown",
   "metadata": {},
   "source": [
    "igraph uses vertex and edge IDs in its core. These IDs are integers, starting from zero, and they are always continuous at any given time instance during the lifetime of the graph. This means that whenever vertices and edges are deleted, a large set of edge and possibly vertex IDs will be renumbered to ensure the continuity. Now, let us assume that our graph is a social network where vertices represent people and edges represent social connections between them. One way to maintain the association between vertex IDs and say, the corresponding names is to have an additional Python list that maps from vertex IDs to names. The drawback of this approach is that this additional list must be maintained in parallel to the modifications of the original graph. Luckily, igraph knows the concept of attributes, i.e., auxiliary objects associated to a given vertex or edge of a graph, or even to the graph as a whole. Every igraph Graph, vertex and edge behaves as a standard Python dictionary in some sense: you can add key-value pairs to any of them, with the key representing the name of your attribute (the only restriction is that it must be a string) and the value representing the attribute itself. (即attribute用key表示)"
   ]
  },
  {
   "cell_type": "code",
   "execution_count": 13,
   "metadata": {},
   "outputs": [
    {
     "data": {
      "text/plain": [
       "'IGRAPH U--- 7 9 -- '"
      ]
     },
     "execution_count": 13,
     "metadata": {},
     "output_type": "execute_result"
    }
   ],
   "source": [
    "g = Graph([(0,1), (0,2), (2,3), (3,4), (4,2), (2,5), (5,0), (6,3), (5,6)])\n",
    "g.summary()"
   ]
  },
  {
   "cell_type": "markdown",
   "metadata": {},
   "source": [
    "Now, let us assume that we want to store the names, ages and genders of people in this network as vertex attributes, and for every connection, we want to store whether this is an informal friendship tie or a formal tie. Every Graph object contains two special members called vs and es, standing for the sequence of all vertices and all edges, respectively. If you try to use vs or es as a Python dictionary, you will manipulate the attribute storage area of the graph:·"
   ]
  },
  {
   "cell_type": "code",
   "execution_count": 14,
   "metadata": {},
   "outputs": [
    {
     "data": {
      "text/plain": [
       "<igraph.VertexSeq at 0x10a572a48>"
      ]
     },
     "execution_count": 14,
     "metadata": {},
     "output_type": "execute_result"
    }
   ],
   "source": [
    "g.vs"
   ]
  },
  {
   "cell_type": "code",
   "execution_count": 15,
   "metadata": {},
   "outputs": [],
   "source": [
    "g.vs[\"name\"] = [\"Alice\", \"Bob\", \"Claire\", \"Dennis\", \"Esther\", \"Frank\", \"George\"] # .vs 是给vertical加attribute"
   ]
  },
  {
   "cell_type": "code",
   "execution_count": 16,
   "metadata": {},
   "outputs": [],
   "source": [
    "g.vs[\"age\"] = [25, 31, 18, 47, 22, 23, 50]"
   ]
  },
  {
   "cell_type": "code",
   "execution_count": 17,
   "metadata": {},
   "outputs": [],
   "source": [
    "g.vs[\"gender\"] = [\"f\", \"m\", \"f\", \"m\", \"f\", \"m\", \"m\"]"
   ]
  },
  {
   "cell_type": "code",
   "execution_count": 18,
   "metadata": {},
   "outputs": [],
   "source": [
    "g.es[\"is_formal\"] = [False, False, True, True, True, False, True, False, False] # .es 是给edge加attribute"
   ]
  },
  {
   "cell_type": "markdown",
   "metadata": {},
   "source": [
    "Whenever you use vs or es(EdgeSeq) as a dictionary, you are assigning attributes to all vertices/edges of the graph. However, you can simply alter the attributes of vertices and edges individually by indexing vs or es with integers as if they were lists (remember, they are sequences, they contain all the vertices or all the edges). When you index them, you obtain a Vertex or Edge object, which refers to (I am sure you already guessed that) a single vertex or a single edge of the graph. Vertex and Edge objects can also be used as dictionaries to alter the attributes of that single vertex or edge:"
   ]
  },
  {
   "cell_type": "code",
   "execution_count": 19,
   "metadata": {},
   "outputs": [
    {
     "data": {
      "text/plain": [
       "igraph.Edge(<igraph.Graph object at 0x10a4c7a98>, 0, {'is_formal': False})"
      ]
     },
     "execution_count": 19,
     "metadata": {},
     "output_type": "execute_result"
    }
   ],
   "source": [
    "g.es[0]"
   ]
  },
  {
   "cell_type": "code",
   "execution_count": 62,
   "metadata": {},
   "outputs": [
    {
     "data": {
      "text/plain": [
       "igraph.Vertex(<igraph.Graph object at 0x10c38a228>, 0, {'name': 'Alice', 'age': 25, 'gender': 'f'})"
      ]
     },
     "execution_count": 62,
     "metadata": {},
     "output_type": "execute_result"
    }
   ],
   "source": [
    "g.vs[0]"
   ]
  },
  {
   "cell_type": "code",
   "execution_count": 63,
   "metadata": {},
   "outputs": [
    {
     "data": {
      "text/plain": [
       "{'is_formal': False}"
      ]
     },
     "execution_count": 63,
     "metadata": {},
     "output_type": "execute_result"
    }
   ],
   "source": [
    "g.es[0].attributes()"
   ]
  },
  {
   "cell_type": "code",
   "execution_count": 66,
   "metadata": {},
   "outputs": [],
   "source": [
    "g.es[0][\"is_formal\"] = True # 重新赋值attribute"
   ]
  },
  {
   "cell_type": "code",
   "execution_count": 67,
   "metadata": {},
   "outputs": [
    {
     "data": {
      "text/plain": [
       "igraph.Edge(<igraph.Graph object at 0x10c38a228>, 0, {'is_formal': True})"
      ]
     },
     "execution_count": 67,
     "metadata": {},
     "output_type": "execute_result"
    }
   ],
   "source": [
    "g.es[0]"
   ]
  },
  {
   "cell_type": "code",
   "execution_count": 70,
   "metadata": {},
   "outputs": [
    {
     "data": {
      "text/plain": [
       "<igraph.EdgeSeq at 0x10c294888>"
      ]
     },
     "execution_count": 70,
     "metadata": {},
     "output_type": "execute_result"
    }
   ],
   "source": [
    "g.es"
   ]
  },
  {
   "cell_type": "markdown",
   "metadata": {},
   "source": [
    "Not too surprisingly, Graph objects themselves can also behave as dictionaries:"
   ]
  },
  {
   "cell_type": "code",
   "execution_count": 71,
   "metadata": {},
   "outputs": [],
   "source": [
    "g[\"date\"] = \"2009-01-10\""
   ]
  },
  {
   "cell_type": "code",
   "execution_count": 72,
   "metadata": {},
   "outputs": [
    {
     "name": "stdout",
     "output_type": "stream",
     "text": [
      "2009-01-10\n"
     ]
    }
   ],
   "source": [
    "print(g[\"date\"])"
   ]
  },
  {
   "cell_type": "markdown",
   "metadata": {},
   "source": [
    "Finally, it should be mentioned that attributes can be deleted by the Python keyword `del` just as you would do with any member of an ordinary dictionary:"
   ]
  },
  {
   "cell_type": "code",
   "execution_count": 74,
   "metadata": {},
   "outputs": [],
   "source": [
    "g.vs[3][\"foo\"] = \"bar\""
   ]
  },
  {
   "cell_type": "code",
   "execution_count": 75,
   "metadata": {},
   "outputs": [
    {
     "data": {
      "text/plain": [
       "[None, None, None, 'bar', None, None, None]"
      ]
     },
     "execution_count": 75,
     "metadata": {},
     "output_type": "execute_result"
    }
   ],
   "source": [
    "g.vs[\"foo\"]"
   ]
  },
  {
   "cell_type": "code",
   "execution_count": 76,
   "metadata": {},
   "outputs": [],
   "source": [
    "del g.vs[\"foo\"]"
   ]
  },
  {
   "cell_type": "code",
   "execution_count": 77,
   "metadata": {},
   "outputs": [
    {
     "ename": "KeyError",
     "evalue": "'Attribute does not exist'",
     "output_type": "error",
     "traceback": [
      "\u001b[0;31m---------------------------------------------------------------------------\u001b[0m",
      "\u001b[0;31mKeyError\u001b[0m                                  Traceback (most recent call last)",
      "\u001b[0;32m<ipython-input-77-a2e2f8e7cb08>\u001b[0m in \u001b[0;36m<module>\u001b[0;34m()\u001b[0m\n\u001b[0;32m----> 1\u001b[0;31m \u001b[0mg\u001b[0m\u001b[0;34m.\u001b[0m\u001b[0mvs\u001b[0m\u001b[0;34m[\u001b[0m\u001b[0;34m\"foo\"\u001b[0m\u001b[0;34m]\u001b[0m\u001b[0;34m\u001b[0m\u001b[0m\n\u001b[0m",
      "\u001b[0;31mKeyError\u001b[0m: 'Attribute does not exist'"
     ]
    }
   ],
   "source": [
    "g.vs[\"foo\"]"
   ]
  },
  {
   "cell_type": "markdown",
   "metadata": {},
   "source": [
    "## [Structural properties of graphs](http://igraph.org/python/doc/tutorial/tutorial.html#structural-properties-of-graphs)"
   ]
  },
  {
   "cell_type": "markdown",
   "metadata": {},
   "source": [
    "Besides the simple graph and attribute manipulation routines described above, igraph provides a large set of methods to calculate various structural properties of graphs. It is beyond the scope of this tutorial to document all of them, hence this section will only introduce a few of them for illustrative purposes. We will work on the small social network we built in the previous section.\n",
    "\n",
    "Probably the simplest property one can think of is the vertex degree. The degree of a vertex equals the number of edges adjacent to it. In case of directed networks, we can also define in-degree (the number of edges pointing towards the vertex) and out-degree (the number of edges originating from the vertex). igraph is able to calculate all of them using a simple syntax:"
   ]
  },
  {
   "cell_type": "code",
   "execution_count": 78,
   "metadata": {},
   "outputs": [
    {
     "data": {
      "text/plain": [
       "[3, 1, 4, 3, 2, 3, 2]"
      ]
     },
     "execution_count": 78,
     "metadata": {},
     "output_type": "execute_result"
    }
   ],
   "source": [
    "g.degree()"
   ]
  },
  {
   "cell_type": "markdown",
   "metadata": {},
   "source": [
    "If the graph was directed, we would have been able to calculate the in- and out-degrees separately using g.degree(type=\"in\") and g.degree(type=\"out\"). You can also pass a single vertex ID or a list of vertex IDs to degree() if you want to calculate the degrees for only a subset of vertices:"
   ]
  },
  {
   "cell_type": "code",
   "execution_count": 80,
   "metadata": {},
   "outputs": [
    {
     "data": {
      "text/plain": [
       "2"
      ]
     },
     "execution_count": 80,
     "metadata": {},
     "output_type": "execute_result"
    }
   ],
   "source": [
    "g.degree(6) # 最后一个点的degree"
   ]
  },
  {
   "cell_type": "code",
   "execution_count": 81,
   "metadata": {},
   "outputs": [
    {
     "data": {
      "text/plain": [
       "[4, 3, 2]"
      ]
     },
     "execution_count": 81,
     "metadata": {},
     "output_type": "execute_result"
    }
   ],
   "source": [
    "g.degree([2,3,4])"
   ]
  },
  {
   "cell_type": "markdown",
   "metadata": {},
   "source": [
    "Besides degree, igraph includes built-in routines to calculate many other centrality properties, including vertex and edge betweenness (`Graph.betweenness()`, `Graph.edge_betweenness()`) or Google’s PageRank (`Graph.pagerank()`) just to name a few. Here we just illustrate edge betweenness:"
   ]
  },
  {
   "cell_type": "code",
   "execution_count": 82,
   "metadata": {},
   "outputs": [
    {
     "data": {
      "text/plain": [
       "[6.0, 6.0, 4.0, 2.0, 4.0, 3.0, 4.0, 3.0, 4.0]"
      ]
     },
     "execution_count": 82,
     "metadata": {},
     "output_type": "execute_result"
    }
   ],
   "source": [
    "g.edge_betweenness()"
   ]
  },
  {
   "cell_type": "code",
   "execution_count": 83,
   "metadata": {},
   "outputs": [
    {
     "data": {
      "text/plain": [
       "[5.0, 0.0, 5.5, 1.5, 0.0, 2.5, 0.5]"
      ]
     },
     "execution_count": 83,
     "metadata": {},
     "output_type": "execute_result"
    }
   ],
   "source": [
    "g.betweenness()"
   ]
  },
  {
   "cell_type": "code",
   "execution_count": 84,
   "metadata": {},
   "outputs": [
    {
     "data": {
      "text/plain": [
       "[0.1715187083669299,\n",
       " 0.07002553879920158,\n",
       " 0.20933537164407268,\n",
       " 0.16151684644322287,\n",
       " 0.11167544439518333,\n",
       " 0.16265174994590004,\n",
       " 0.11327634040548959]"
      ]
     },
     "execution_count": 84,
     "metadata": {},
     "output_type": "execute_result"
    }
   ],
   "source": [
    "g.pagerank()"
   ]
  },
  {
   "cell_type": "markdown",
   "metadata": {},
   "source": [
    "Now we can also figure out which connections have the highest betweenness centrality with some Python magic:"
   ]
  },
  {
   "cell_type": "code",
   "execution_count": 86,
   "metadata": {},
   "outputs": [
    {
     "data": {
      "text/plain": [
       "[(0, 1), (0, 2)]"
      ]
     },
     "execution_count": 86,
     "metadata": {},
     "output_type": "execute_result"
    }
   ],
   "source": [
    "ebs = g.edge_betweenness()\n",
    "max_eb = max(ebs)\n",
    "[g.es[idx].tuple for idx, eb in enumerate(ebs) if eb == max_eb] ## 称为Python magic 真不为过"
   ]
  },
  {
   "cell_type": "code",
   "execution_count": 95,
   "metadata": {},
   "outputs": [
    {
     "data": {
      "text/plain": [
       "[igraph.Edge(<igraph.Graph object at 0x10c38a228>, 0, {'is_formal': True}),\n",
       " igraph.Edge(<igraph.Graph object at 0x10c38a228>, 1, {'is_formal': False})]"
      ]
     },
     "execution_count": 95,
     "metadata": {},
     "output_type": "execute_result"
    }
   ],
   "source": [
    "[g.es[idx] for idx, eb in enumerate(ebs) if eb == max_eb] ## 所以.tuple可以把对应的edge用两点连线方式表示出来"
   ]
  },
  {
   "cell_type": "markdown",
   "metadata": {},
   "source": [
    "Most structural properties can also be retrieved for a subset of vertices or edges or for a single vertex or edge by calling the appropriate method on the VertexSeq, EdgeSeq, Vertex or Edge object of interest:"
   ]
  },
  {
   "cell_type": "code",
   "execution_count": 96,
   "metadata": {},
   "outputs": [
    {
     "data": {
      "text/plain": [
       "[3, 1, 4, 3, 2, 3, 2]"
      ]
     },
     "execution_count": 96,
     "metadata": {},
     "output_type": "execute_result"
    }
   ],
   "source": [
    "g.vs.degree()"
   ]
  },
  {
   "cell_type": "code",
   "execution_count": 97,
   "metadata": {},
   "outputs": [
    {
     "data": {
      "text/plain": [
       "[6.0, 6.0, 4.0, 2.0, 4.0, 3.0, 4.0, 3.0, 4.0]"
      ]
     },
     "execution_count": 97,
     "metadata": {},
     "output_type": "execute_result"
    }
   ],
   "source": [
    "g.es.edge_betweenness()"
   ]
  },
  {
   "cell_type": "code",
   "execution_count": 98,
   "metadata": {},
   "outputs": [
    {
     "data": {
      "text/plain": [
       "4"
      ]
     },
     "execution_count": 98,
     "metadata": {},
     "output_type": "execute_result"
    }
   ],
   "source": [
    "g.vs[2].degree()"
   ]
  },
  {
   "cell_type": "markdown",
   "metadata": {},
   "source": [
    "## [Querying vertices and edges based on attributes](http://igraph.org/python/doc/tutorial/tutorial.html#querying-vertices-and-edges-based-on-attributes)"
   ]
  },
  {
   "cell_type": "markdown",
   "metadata": {},
   "source": [
    "Imagine that in a given social network, you would like to find out who has the largest degree or betweenness centrality. You can do that with the tools presented so far and some basic Python knowledge, but since it is a common task to select vertices and edges based on attributes or structural properties, igraph gives you an easier way to do that:"
   ]
  },
  {
   "cell_type": "code",
   "execution_count": 5,
   "metadata": {},
   "outputs": [],
   "source": [
    "from igraph import *\n",
    "g = Graph([(0,1), (0,2), (2,3), (3,4), (4,2), (2,5), (5,0), (6,3), (5,6)])\n",
    "g.summary()\n",
    "g.vs[\"name\"] = [\"Alice\", \"Bob\", \"Claire\", \"Dennis\", \"Esther\", \"Frank\", \"George\"] # .vs 是给vertical加attribute\n",
    "g.vs[\"age\"] = [25, 31, 18, 47, 22, 23, 50]\n",
    "g.vs[\"gender\"] = [\"f\", \"m\", \"f\", \"m\", \"f\", \"m\", \"m\"]\n",
    "g.es[\"is_formal\"] = [False, False, True, True, True, False, True, False, False] # .es 是给edge加attribute"
   ]
  },
  {
   "cell_type": "code",
   "execution_count": 6,
   "metadata": {},
   "outputs": [
    {
     "data": {
      "text/plain": [
       "['Claire']"
      ]
     },
     "execution_count": 6,
     "metadata": {},
     "output_type": "execute_result"
    }
   ],
   "source": [
    "g.vs.attribute_names() ### >>> ['name', 'age', 'gender']\n",
    "g.vs.select(_degree = g.maxdegree())[\"name\"] # g.maxdegree() >>> 4"
   ]
  },
  {
   "cell_type": "markdown",
   "metadata": {},
   "source": [
    "### More on .select() function （可以把符合条件的vertex filter出来）"
   ]
  },
  {
   "cell_type": "markdown",
   "metadata": {},
   "source": [
    "The syntax may seem a little bit awkward for the first sight, so let’s try to interpret it step by step. `select()` is a method of VertexSeq and its sole purpose is to filter a VertexSeq based on the properties of individual vertices. The way it filters the vertices depends on its positional and keyword arguments. Positional arguments (the ones without an explicit name like `_degree` above) are always processed before keyword arguments as follows:"
   ]
  },
  {
   "cell_type": "markdown",
   "metadata": {},
   "source": [
    "1. If the first positional argument is None, an empty sequence (containing no vertices) is returned:"
   ]
  },
  {
   "cell_type": "code",
   "execution_count": 18,
   "metadata": {},
   "outputs": [
    {
     "data": {
      "text/plain": [
       "0"
      ]
     },
     "execution_count": 18,
     "metadata": {},
     "output_type": "execute_result"
    }
   ],
   "source": [
    "seq = g.vs.select(None)\n",
    "len(seq)"
   ]
  },
  {
   "cell_type": "markdown",
   "metadata": {},
   "source": [
    "2. If the first positional argument is a callable object (i.e., a function, a bound method or anything that behaves like a function), the object will be called for every vertex that’s currently in the sequence. If the function returns True, the vertex will be included, otherwise it will be excluded:"
   ]
  },
  {
   "cell_type": "code",
   "execution_count": 19,
   "metadata": {},
   "outputs": [
    {
     "data": {
      "text/plain": [
       "5"
      ]
     },
     "execution_count": 19,
     "metadata": {},
     "output_type": "execute_result"
    }
   ],
   "source": [
    "graph = Graph.Full(10)\n",
    "only_odd_vertices = graph.vs.select(lambda vertex: vertex.index % 2 == 1) # 对graph.vs中每个vertex来做函数，每个vertex都有一个编号\n",
    "len(only_odd_vertices)"
   ]
  },
  {
   "cell_type": "code",
   "execution_count": 20,
   "metadata": {},
   "outputs": [
    {
     "data": {
      "text/plain": [
       "[0, 1, 2, 3, 4, 5, 6, 7, 8, 9]"
      ]
     },
     "execution_count": 20,
     "metadata": {},
     "output_type": "execute_result"
    }
   ],
   "source": [
    "graph.vs.indices"
   ]
  },
  {
   "cell_type": "markdown",
   "metadata": {},
   "source": [
    "3. If the first positional argument is an iterable (i.e., a list, a generator or anything that can be iterated over), it must return integers and these integers will be considered as indices into the current vertex set (which is not necessarily the whole graph). Only those vertices that match the given indices will be included in the filtered vertex set. Floats, strings, invalid vertex IDs will silently be ignored:"
   ]
  },
  {
   "cell_type": "code",
   "execution_count": 26,
   "metadata": {},
   "outputs": [
    {
     "data": {
      "text/plain": [
       "3"
      ]
     },
     "execution_count": 26,
     "metadata": {},
     "output_type": "execute_result"
    }
   ],
   "source": [
    "seq = graph.vs.select([2, 3, 7])\n",
    "len(seq)"
   ]
  },
  {
   "cell_type": "code",
   "execution_count": 27,
   "metadata": {},
   "outputs": [
    {
     "data": {
      "text/plain": [
       "[2, 3, 7]"
      ]
     },
     "execution_count": 27,
     "metadata": {},
     "output_type": "execute_result"
    }
   ],
   "source": [
    "[v.index for v in seq]"
   ]
  },
  {
   "cell_type": "code",
   "execution_count": 28,
   "metadata": {},
   "outputs": [],
   "source": [
    "seq = seq.select([0, 2])         # filtering an existing vertex set 进一步过滤"
   ]
  },
  {
   "cell_type": "code",
   "execution_count": 29,
   "metadata": {},
   "outputs": [
    {
     "data": {
      "text/plain": [
       "[2, 7]"
      ]
     },
     "execution_count": 29,
     "metadata": {},
     "output_type": "execute_result"
    }
   ],
   "source": [
    "[v.index for v in seq]"
   ]
  },
  {
   "cell_type": "code",
   "execution_count": 32,
   "metadata": {},
   "outputs": [
    {
     "data": {
      "text/plain": [
       "3"
      ]
     },
     "execution_count": 32,
     "metadata": {},
     "output_type": "execute_result"
    }
   ],
   "source": [
    "seq = graph.vs.select([2, 3, 7, \"foo\", 3.5])\n",
    "len(seq) #  Only those vertices that match the given indices will be included in the filtered vertex set. \n",
    "         #   Floats, strings, invalid vertex IDs will silently be ignored"
   ]
  },
  {
   "cell_type": "markdown",
   "metadata": {},
   "source": [
    "4. If the first positional argument is an integer, all remaining arguments are also expected to be integers and they are interpreted as indices into the current vertex set. This is just syntactic sugar, you could achieve an equivalent effect by passing a list as the first positional argument, but this way you can omit the square brackets:"
   ]
  },
  {
   "cell_type": "code",
   "execution_count": 33,
   "metadata": {},
   "outputs": [
    {
     "data": {
      "text/plain": [
       "3"
      ]
     },
     "execution_count": 33,
     "metadata": {},
     "output_type": "execute_result"
    }
   ],
   "source": [
    "seq = graph.vs.select(2, 3, 7)  #<- 懒人方法\n",
    "len(seq)"
   ]
  },
  {
   "cell_type": "markdown",
   "metadata": {},
   "source": [
    "Keyword arguments can be used to filter the vertices based on their attributes or their structural properties. The name of each keyword argument should consist of at most two parts: the name of the attribute or structural property and the filtering operator. The operator can be omitted; in that case, we automatically assume the equality operator. The possibilities are as follows (where name denotes the name of the attribute or property):\n",
    "\n",
    "`name_eq` : The attribute/property value must be equal to the value of the keyword argument\n",
    "\n",
    "`name_ne` : The attribute/property value must not be equal to the value of the keyword argument\n",
    "\n",
    "`name_lt` : The attribute/property value must be less than the value of the keyword argument\n",
    "\n",
    "`name_le` : The attribute/property value must be less than or equal to the value of the keyword argument\n",
    "\n",
    "`name_gt` : The attribute/property value must be greater than the value of the keyword argument\n",
    "\n",
    "`name_ge` : The attribute/property value must be greater than or equal to the value of the keyword argumen\n",
    "\n",
    "`name_in` : The attribute/property value must be included in the value of the keyword argument, which must be a sequence in this case\n",
    "\n",
    "`name_notin` : The attribute/property value must not be included in the value of the the keyword argument, which must be a sequence in this case\n",
    "\n"
   ]
  },
  {
   "cell_type": "markdown",
   "metadata": {},
   "source": [
    "For instance, the following command gives you people younger than 30 years in our imaginary social network:"
   ]
  },
  {
   "cell_type": "code",
   "execution_count": 48,
   "metadata": {},
   "outputs": [
    {
     "data": {
      "text/plain": [
       "4"
      ]
     },
     "execution_count": 48,
     "metadata": {},
     "output_type": "execute_result"
    }
   ],
   "source": [
    "len(g.vs.select(age_lt=30)) # >>> 4  有四个人（vertex） 比三十岁小，把这四个人filter出来了，可以重新指名。。"
   ]
  },
  {
   "cell_type": "markdown",
   "metadata": {},
   "source": [
    "**Note：** Due to the syntactical constraints of Python, you cannot use the admittedly simpler syntax of g.vs.select(age < 30) as only the equality operator is allowed to appear in an argument list in Python.\n",
    "\n"
   ]
  },
  {
   "cell_type": "markdown",
   "metadata": {},
   "source": [
    "To save you some typing, you can even omit the `select()` method if you wish: （这太人性化了，以后忘了也不怕了。。）\n"
   ]
  },
  {
   "cell_type": "code",
   "execution_count": 50,
   "metadata": {},
   "outputs": [
    {
     "data": {
      "text/plain": [
       "4"
      ]
     },
     "execution_count": 50,
     "metadata": {},
     "output_type": "execute_result"
    }
   ],
   "source": [
    "len(g.vs(age_lt=30))"
   ]
  },
  {
   "cell_type": "markdown",
   "metadata": {},
   "source": [
    "Theoretically, it can happen that there exists an attribute and a structural property with the same name (e.g., you could have a vertex attribute named `degree`). In that case, we would not be able to decide whether the user meant `degree` as a **structural property** or as a vertex attribute. To resolve this ambiguity, structural property names must always be preceded by an underscore (`_`) when used for filtering. For example, to find vertices with degree larger than 2:"
   ]
  },
  {
   "cell_type": "code",
   "execution_count": 51,
   "metadata": {},
   "outputs": [
    {
     "data": {
      "text/plain": [
       "4"
      ]
     },
     "execution_count": 51,
     "metadata": {},
     "output_type": "execute_result"
    }
   ],
   "source": [
    "len(g.vs(_degree_gt=2))"
   ]
  },
  {
   "cell_type": "markdown",
   "metadata": {},
   "source": [
    "There are also a few special structural properties for selecting edges:\n",
    "\n",
    "1. Using `_source` or `_from` in the keyword argument list of EdgeSeq.select() filters based on the source vertices of the edges. E.g., to select all the edges originating from Claire (who has vertex index 2):"
   ]
  },
  {
   "cell_type": "code",
   "execution_count": 53,
   "metadata": {},
   "outputs": [
    {
     "data": {
      "text/plain": [
       "3"
      ]
     },
     "execution_count": 53,
     "metadata": {},
     "output_type": "execute_result"
    }
   ],
   "source": [
    "len(g.es.select(_source=2)) ##  g.vs[\"name\"] >> ['Alice', 'Bob', 'Claire', 'Dennis', 'Esther', 'Frank', 'George']"
   ]
  },
  {
   "cell_type": "markdown",
   "metadata": {},
   "source": [
    "2. Using `_target` or `_to` filters based on the target vertices. This is different from _source and _from if the graph is directed."
   ]
  },
  {
   "cell_type": "markdown",
   "metadata": {},
   "source": [
    "3. `_within` takes a VertexSeq object or a list or set of vertex indices and selects all the edges that originate and terminate in the given vertex set. For instance, the following expression selects all the edges between Claire (vertex index 2), Dennis (vertex index 3) and Esther (vertex index 4):"
   ]
  },
  {
   "cell_type": "code",
   "execution_count": 57,
   "metadata": {},
   "outputs": [
    {
     "data": {
      "text/plain": [
       "3"
      ]
     },
     "execution_count": 57,
     "metadata": {},
     "output_type": "execute_result"
    }
   ],
   "source": [
    "len(g.es.select(_within=[2,3,4]))"
   ]
  },
  {
   "cell_type": "markdown",
   "metadata": {},
   "source": [
    "We could also have used a VertexSeq object:"
   ]
  },
  {
   "cell_type": "code",
   "execution_count": 59,
   "metadata": {},
   "outputs": [
    {
     "data": {
      "text/plain": [
       "3"
      ]
     },
     "execution_count": 59,
     "metadata": {},
     "output_type": "execute_result"
    }
   ],
   "source": [
    "len(g.es.select(_within=g.vs[2:5]))"
   ]
  },
  {
   "cell_type": "markdown",
   "metadata": {},
   "source": [
    "4. `_between` takes a tuple consisting of two VertexSeq objects or lists containing vertex indices or Vertex objects and selects all the edges that originate in one of the sets and terminate in the other. E.g., to select all the edges that connect men to women:"
   ]
  },
  {
   "cell_type": "code",
   "execution_count": 61,
   "metadata": {},
   "outputs": [
    {
     "data": {
      "text/plain": [
       "<igraph.EdgeSeq at 0x10a2b5bf8>"
      ]
     },
     "execution_count": 61,
     "metadata": {},
     "output_type": "execute_result"
    }
   ],
   "source": [
    "men = g.vs.select(gender=\"m\")\n",
    "women = g.vs.select(gender=\"f\")\n",
    "g.es.select(_between=(men, women)) #  哟，还能这样搞，还真是灵活"
   ]
  },
  {
   "cell_type": "markdown",
   "metadata": {},
   "source": [
    "### Finding a single vertex or edge with some properties (find()  function)"
   ]
  },
  {
   "cell_type": "markdown",
   "metadata": {},
   "source": [
    "In many cases we are looking for a single vertex or edge of a graph with some properties, and either we do not care which one of the matches is returned if there are multiple matches, or we know in advance that there will be only one match. A typical example is looking up vertices by their names in the name property. VertexSeq and EdgeSeq objects provide the find() method for such use-cases. `find()` works similarly to `select()`, but it **returns only the first match** if there are multiple matches, and throws an exception if no match is found. For instance, to look up the vertex corresponding to Claire, one can do this:"
   ]
  },
  {
   "cell_type": "code",
   "execution_count": 62,
   "metadata": {},
   "outputs": [
    {
     "data": {
      "text/plain": [
       "igraph.Vertex"
      ]
     },
     "execution_count": 62,
     "metadata": {},
     "output_type": "execute_result"
    }
   ],
   "source": [
    "claire = g.vs.find(name=\"Claire\")\n",
    "type(claire)"
   ]
  },
  {
   "cell_type": "code",
   "execution_count": 63,
   "metadata": {},
   "outputs": [
    {
     "data": {
      "text/plain": [
       "2"
      ]
     },
     "execution_count": 63,
     "metadata": {},
     "output_type": "execute_result"
    }
   ],
   "source": [
    "claire.index"
   ]
  },
  {
   "cell_type": "markdown",
   "metadata": {},
   "source": [
    "Looking up an unknown name will yield an exception:\n",
    "\n"
   ]
  },
  {
   "cell_type": "code",
   "execution_count": 64,
   "metadata": {},
   "outputs": [
    {
     "ename": "ValueError",
     "evalue": "no such vertex: 'Joe'",
     "output_type": "error",
     "traceback": [
      "\u001b[0;31m---------------------------------------------------------------------------\u001b[0m",
      "\u001b[0;31mValueError\u001b[0m                                Traceback (most recent call last)",
      "\u001b[0;32m<ipython-input-64-b1518f28d5e1>\u001b[0m in \u001b[0;36m<module>\u001b[0;34m()\u001b[0m\n\u001b[0;32m----> 1\u001b[0;31m \u001b[0mg\u001b[0m\u001b[0;34m.\u001b[0m\u001b[0mvs\u001b[0m\u001b[0;34m.\u001b[0m\u001b[0mfind\u001b[0m\u001b[0;34m(\u001b[0m\u001b[0mname\u001b[0m\u001b[0;34m=\u001b[0m\u001b[0;34m\"Joe\"\u001b[0m\u001b[0;34m)\u001b[0m\u001b[0;34m\u001b[0m\u001b[0m\n\u001b[0m",
      "\u001b[0;32m/Library/Frameworks/Python.framework/Versions/3.6/lib/python3.6/site-packages/igraph/__init__.py\u001b[0m in \u001b[0;36mfind\u001b[0;34m(self, *args, **kwds)\u001b[0m\n\u001b[1;32m   3359\u001b[0m             \u001b[0;31m# Selecting first based on positional arguments, then checking\u001b[0m\u001b[0;34m\u001b[0m\u001b[0;34m\u001b[0m\u001b[0m\n\u001b[1;32m   3360\u001b[0m             \u001b[0;31m# the criteria specified by the (remaining) keyword arguments\u001b[0m\u001b[0;34m\u001b[0m\u001b[0;34m\u001b[0m\u001b[0m\n\u001b[0;32m-> 3361\u001b[0;31m             \u001b[0mvertex\u001b[0m \u001b[0;34m=\u001b[0m \u001b[0m_igraph\u001b[0m\u001b[0;34m.\u001b[0m\u001b[0mVertexSeq\u001b[0m\u001b[0;34m.\u001b[0m\u001b[0mfind\u001b[0m\u001b[0;34m(\u001b[0m\u001b[0mself\u001b[0m\u001b[0;34m,\u001b[0m \u001b[0;34m*\u001b[0m\u001b[0margs\u001b[0m\u001b[0;34m)\u001b[0m\u001b[0;34m\u001b[0m\u001b[0m\n\u001b[0m\u001b[1;32m   3362\u001b[0m             \u001b[0;32mif\u001b[0m \u001b[0;32mnot\u001b[0m \u001b[0mkwds\u001b[0m\u001b[0;34m:\u001b[0m\u001b[0;34m\u001b[0m\u001b[0m\n\u001b[1;32m   3363\u001b[0m                 \u001b[0;32mreturn\u001b[0m \u001b[0mvertex\u001b[0m\u001b[0;34m\u001b[0m\u001b[0m\n",
      "\u001b[0;31mValueError\u001b[0m: no such vertex: 'Joe'"
     ]
    }
   ],
   "source": [
    "g.vs.find(name=\"Joe\")"
   ]
  },
  {
   "cell_type": "markdown",
   "metadata": {},
   "source": [
    "## [Layouts and plotting](http://igraph.org/python/doc/tutorial/tutorial.html#layouts-and-plotting) (下载好麻烦啊。。下次再说吧，先看看adj)"
   ]
  },
  {
   "cell_type": "markdown",
   "metadata": {},
   "source": [
    "A graph is an abstract mathematical object without a specific representation in 2D or 3D space. This means that whenever we want to visualise a graph, we have to find a mapping from vertices to coordinates in two- or three-dimensional space first, preferably in a way that is pleasing for the eye. A separate branch of graph theory, namely graph drawing, tries to solve this problem via several graph layout algorithms. igraph implements quite a few layout algorithms and is also able to draw them onto the screen or to a PDF, PNG or SVG file using the Cairo library."
   ]
  },
  {
   "cell_type": "code",
   "execution_count": 65,
   "metadata": {},
   "outputs": [],
   "source": [
    "layout = g.layout_kamada_kawai()"
   ]
  },
  {
   "cell_type": "code",
   "execution_count": 67,
   "metadata": {},
   "outputs": [],
   "source": [
    "layout = g.layout(\"kamada_kawai\")"
   ]
  },
  {
   "cell_type": "code",
   "execution_count": 69,
   "metadata": {},
   "outputs": [],
   "source": [
    "layout = g.layout(\"rt\", 2)"
   ]
  },
  {
   "cell_type": "code",
   "execution_count": 71,
   "metadata": {},
   "outputs": [],
   "source": [
    "layout = g.layout(\"kk\")"
   ]
  },
  {
   "cell_type": "code",
   "execution_count": 73,
   "metadata": {},
   "outputs": [
    {
     "ename": "FileNotFoundError",
     "evalue": "[Errno 2] No such file or directory: 'karate.GraphML'",
     "output_type": "error",
     "traceback": [
      "\u001b[0;31m---------------------------------------------------------------------------\u001b[0m",
      "\u001b[0;31mFileNotFoundError\u001b[0m                         Traceback (most recent call last)",
      "\u001b[0;32m<ipython-input-73-5425655df4ad>\u001b[0m in \u001b[0;36m<module>\u001b[0;34m()\u001b[0m\n\u001b[0;32m----> 1\u001b[0;31m \u001b[0mkarate\u001b[0m \u001b[0;34m=\u001b[0m \u001b[0mGraph\u001b[0m\u001b[0;34m.\u001b[0m\u001b[0mRead_GraphML\u001b[0m\u001b[0;34m(\u001b[0m\u001b[0;34m\"karate.GraphML\"\u001b[0m\u001b[0;34m)\u001b[0m\u001b[0;34m\u001b[0m\u001b[0m\n\u001b[0m",
      "\u001b[0;31mFileNotFoundError\u001b[0m: [Errno 2] No such file or directory: 'karate.GraphML'"
     ]
    }
   ],
   "source": [
    "karate = Graph.Read_GraphML(\"karate.GraphML\")"
   ]
  },
  {
   "cell_type": "markdown",
   "metadata": {},
   "source": [
    "## [从igraph 数据转化为一个adj M]()"
   ]
  },
  {
   "cell_type": "code",
   "execution_count": 134,
   "metadata": {},
   "outputs": [
    {
     "data": {
      "text/plain": [
       "Matrix([[0, 1, 1, 0, 0, 1, 0], [1, 0, 0, 0, 0, 0, 0], [1, 0, 0, 1, 1, 1, 0], [0, 0, 1, 0, 1, 0, 1], [0, 0, 1, 1, 0, 0, 0], [1, 0, 1, 0, 0, 0, 1], [0, 0, 0, 1, 0, 1, 0]])"
      ]
     },
     "execution_count": 134,
     "metadata": {},
     "output_type": "execute_result"
    }
   ],
   "source": [
    "A = Graph.get_adjacency(g)\n",
    "A"
   ]
  },
  {
   "cell_type": "code",
   "execution_count": 130,
   "metadata": {},
   "outputs": [
    {
     "data": {
      "text/plain": [
       "[[1, 2, 5], [0], [0, 3, 4, 5], [2, 4, 6], [2, 3], [0, 2, 6], [3, 5]]"
      ]
     },
     "execution_count": 130,
     "metadata": {},
     "output_type": "execute_result"
    }
   ],
   "source": [
    "Graph.get_adjlist(g)\n"
   ]
  },
  {
   "cell_type": "markdown",
   "metadata": {},
   "source": [
    "[adjacency](http://igraph.org/python/doc/igraph.GraphBase-class.html#Adjacency)"
   ]
  },
  {
   "cell_type": "code",
   "execution_count": 139,
   "metadata": {},
   "outputs": [
    {
     "name": "stdout",
     "output_type": "stream",
     "text": [
      "IGRAPH U--- 2 1 -- \n"
     ]
    }
   ],
   "source": [
    "p = Graph.Adjacency([[0,1],[1,0]],mode = ADJ_UNDIRECTED)\n",
    "summary(p)"
   ]
  },
  {
   "cell_type": "code",
   "execution_count": 142,
   "metadata": {},
   "outputs": [
    {
     "name": "stdout",
     "output_type": "stream",
     "text": [
      "IGRAPH U--- 7 9 -- \n"
     ]
    }
   ],
   "source": [
    "A = list(A)\n",
    "p = Graph.Adjacency(A,mode = ADJ_UNDIRECTED)\n",
    "summary(p)"
   ]
  },
  {
   "cell_type": "code",
   "execution_count": 117,
   "metadata": {},
   "outputs": [],
   "source": [
    "import pandas as pd\n",
    "f = pd.read_table(\"facebook_combined.txt\",sep = \" \") # 空格当间隔，默认是tab"
   ]
  },
  {
   "cell_type": "code",
   "execution_count": 12,
   "metadata": {},
   "outputs": [
    {
     "name": "stdout",
     "output_type": "stream",
     "text": [
      "Help on class VertexDendrogram in module igraph.clustering:\n",
      "\n",
      "class VertexDendrogram(Dendrogram)\n",
      " |  The dendrogram resulting from the hierarchical clustering of the\n",
      " |  vertex set of a graph.\n",
      " |  \n",
      " |  Method resolution order:\n",
      " |      VertexDendrogram\n",
      " |      Dendrogram\n",
      " |      builtins.object\n",
      " |  \n",
      " |  Methods defined here:\n",
      " |  \n",
      " |  __init__(self, graph, merges, optimal_count=None, params=None, modularity_params=None)\n",
      " |      Creates a dendrogram object for a given graph.\n",
      " |      \n",
      " |      @param graph: the graph that will be associated to the clustering\n",
      " |      @param merges: the merges performed given in matrix form.\n",
      " |      @param optimal_count: the optimal number of clusters where the\n",
      " |        dendrogram should be cut. This is a hint usually provided by the\n",
      " |        clustering algorithm that produces the dendrogram. C{None} means\n",
      " |        that such a hint is not available; the optimal count will then be\n",
      " |        selected based on the modularity in such a case.\n",
      " |      @param params: additional parameters to be stored in this object.\n",
      " |      @param modularity_params: arguments that should be passed to\n",
      " |        L{Graph.modularity} when the modularity is (re)calculated. If the\n",
      " |        original graph was weighted, you should pass a dictionary\n",
      " |        containing a C{weight} key with the appropriate value here.\n",
      " |  \n",
      " |  __plot__(self, context, bbox, palette, *args, **kwds)\n",
      " |      Draws the vertex dendrogram on the given Cairo context\n",
      " |      \n",
      " |      See L{Dendrogram.__plot__} for the list of supported keyword\n",
      " |      arguments.\n",
      " |  \n",
      " |  as_clustering(self, n=None)\n",
      " |      Cuts the dendrogram at the given level and returns a corresponding\n",
      " |      L{VertexClustering} object.\n",
      " |      \n",
      " |      @param n: the desired number of clusters. Merges are replayed from the\n",
      " |        beginning until the membership vector has exactly M{n} distinct elements\n",
      " |        or until there are no more recorded merges, whichever happens first.\n",
      " |        If C{None}, the optimal count hint given by the clustering algorithm\n",
      " |        will be used If the optimal count was not given either, it will be\n",
      " |        calculated by selecting the level where the modularity is maximal.\n",
      " |      @return: a new L{VertexClustering} object.\n",
      " |  \n",
      " |  ----------------------------------------------------------------------\n",
      " |  Data descriptors defined here:\n",
      " |  \n",
      " |  optimal_count\n",
      " |      Returns the optimal number of clusters for this dendrogram.\n",
      " |      \n",
      " |      If an optimal count hint was given at construction time, this\n",
      " |      property simply returns the hint. If such a count was not given,\n",
      " |      this method calculates the optimal number of clusters by maximizing\n",
      " |      the modularity along all the possible cuts in the dendrogram.\n",
      " |  \n",
      " |  ----------------------------------------------------------------------\n",
      " |  Methods inherited from Dendrogram:\n",
      " |  \n",
      " |  __str__(self)\n",
      " |      Return str(self).\n",
      " |  \n",
      " |  format(self, format='newick')\n",
      " |      Formats the dendrogram in a foreign format.\n",
      " |      \n",
      " |      Currently only the Newick format is supported.\n",
      " |      \n",
      " |      Example:\n",
      " |      \n",
      " |          >>> d = Dendrogram([(2, 3), (0, 1), (4, 5)])\n",
      " |          >>> d.format()\n",
      " |          '((2,3)4,(0,1)5)6;'\n",
      " |          >>> d.names = list(\"ABCDEFG\")\n",
      " |          >>> d.format()\n",
      " |          '((C,D)E,(A,B)F)G;'\n",
      " |  \n",
      " |  summary(self, verbosity=0, max_leaf_count=40)\n",
      " |      Returns the summary of the dendrogram.\n",
      " |      \n",
      " |      The summary includes the number of leafs and branches, and also an\n",
      " |      ASCII art representation of the dendrogram unless it is too large.\n",
      " |      \n",
      " |      @param verbosity: determines whether the ASCII representation of the\n",
      " |        dendrogram should be printed. Zero verbosity prints only the number\n",
      " |        of leafs and branches.\n",
      " |      @param max_leaf_count: the maximal number of leafs to print in the\n",
      " |        ASCII representation. If the dendrogram has more leafs than this\n",
      " |        limit, the ASCII representation will not be printed even if the\n",
      " |        verbosity is larger than or equal to 1.\n",
      " |      @return: the summary of the dendrogram as a string.\n",
      " |  \n",
      " |  ----------------------------------------------------------------------\n",
      " |  Data descriptors inherited from Dendrogram:\n",
      " |  \n",
      " |  __dict__\n",
      " |      dictionary for instance variables (if defined)\n",
      " |  \n",
      " |  __weakref__\n",
      " |      list of weak references to the object (if defined)\n",
      " |  \n",
      " |  merges\n",
      " |      Returns the performed merges in matrix format\n",
      " |  \n",
      " |  names\n",
      " |      Returns the names of the nodes in the dendrogram\n",
      "\n"
     ]
    }
   ],
   "source": [
    "help(VertexDendrogram)"
   ]
  },
  {
   "cell_type": "markdown",
   "metadata": {},
   "source": [
    "[在这个网站里面找igraph的函数](http://igraph.org/python/doc/igraph.GraphBase-class.html)"
   ]
  },
  {
   "cell_type": "code",
   "execution_count": 1,
   "metadata": {},
   "outputs": [],
   "source": [
    "from igraph import *\n",
    "GG = Graph.Read_Edgelist(\"facebook_combined.txt\", directed=False)\n",
    "AA = Graph.get_adjacency(GG)"
   ]
  },
  {
   "cell_type": "code",
   "execution_count": 2,
   "metadata": {},
   "outputs": [
    {
     "data": {
      "text/plain": [
       "(4039, 4039)"
      ]
     },
     "execution_count": 2,
     "metadata": {},
     "output_type": "execute_result"
    }
   ],
   "source": [
    "AA.shape"
   ]
  },
  {
   "cell_type": "code",
   "execution_count": 3,
   "metadata": {},
   "outputs": [],
   "source": [
    "fc = Graph.community_fastgreedy(GG)"
   ]
  },
  {
   "cell_type": "code",
   "execution_count": 20,
   "metadata": {},
   "outputs": [],
   "source": [
    "tmp = fc.as_clustering(13) "
   ]
  },
  {
   "cell_type": "code",
   "execution_count": 8,
   "metadata": {},
   "outputs": [
    {
     "data": {
      "text/plain": [
       "igraph.clustering.VertexDendrogram"
      ]
     },
     "execution_count": 8,
     "metadata": {},
     "output_type": "execute_result"
    }
   ],
   "source": [
    "type(fc)"
   ]
  },
  {
   "cell_type": "code",
   "execution_count": 19,
   "metadata": {},
   "outputs": [
    {
     "data": {
      "text/plain": [
       "'((((2596,((2470,(2457,(2195,(2079,((2058,(2576,(2383,(2391,((2044,(2429,(2476,(2478,(1942,(2303,(2234,(2449,(2393,(2067,(2019,(2584,(2092,(2387,(2147,(2262,(2545,(2350,(2541,(2382,(2481,(2167,(2094,(2245,(2487,(2281,(1956,(2535,(2301,(1961,(2427,(2168,(2106,(2437,(2204,(2421,(2634,(2565,(1996,(((2017,(2034,(2321,(2041,(2014,(1950,(2012,(2016,(2050,(2435,(2000,(2337,(1958,(2494,(2626,(2025,(2346,(2658,(2097,(2660,(2639,(2011,(2225,(1957,(1931,(2636,(2061,(2633,(2627,(1914,(1991,(1935,(2585,(2647,(2645,(2583,(2657,(2648,(1998,(2284,(2006,(1980,(1919,(2297,(2159,(2192,(2364,(2620,(1995,(1927,(2001,(2171,(2027,(2202,(2365,(2157,(2022,(2024,(1951,(2004,(2538,(2447,(2378,(2640,(1999,(2018,(1928,(2013,(1921,(1968,(1976,(1973,(2009,(1972,(2431,(2528,(2263,(2621,(2441,(2422,(1937,(2015,(2456,(2375,(2439,(2548,(2100,(2113,(2217,(2450,(2632,(2051,(2558,((2227,(2230,(2358,(2580,(2388,(2008,((2316,(2251,(2080,(2659,(2357,(2360,(2105,(2238,(2130,(1933,(1915,(2424,(2614,(1934,(2373,(2193,(2152,(2455,(1922,(2562,(2587,(2181,(2114,(2156,(2160,((2405,(1978,(2534,(2248,(2503,(1990,(1936,(2403,(2314,(2277,(2497,(2341,(2146,(2173,(2070,(2260,(2120,(2412,((2119,(2570,(2577,(2402,(2082,(((2523,(2335,((2474,(2411,(2397,(2049,(2644,(2618,(2342,(2129,(2089,(2023,(2317,(2628,(2488,(2231,(2448,(2236,(1960,(2091,(2371,(2035,(1975,(2228,(2361,(2440,(2197,(2126,(2107,(2656,(2505,(2651,(1974,((2175,(2459,(2517,(2493,(2514,(2066,((1977,((2265,((2452,(2252,(2177,((2540,(2313,(2453,(2116,((2291,((2214,(2413,(2312,(1913,(2531,(2389,(2400,(((((2036,(2581,(2270,((2298,((2641,((2572,(2249,(2065,(2186,(2468,(2085,(2566,(2096,(2322,(2612,(2406,(2141,(1944,(2480,(2362,(2310,(2272,((2366,((2296,(2425,(2557,(2318,(2416,(2145,(2029,(2637,(2242,(2355,(2525,(2209,(2610,(2530,(2211,(2031,(2295,(2496,(2529,(2571,(1923,(1964,(2544,(2155,((2226,(2502,(2519,(1987,(2057,(2274,(2221,(2473,(2518,(2222,(2325,(2110,(2075,(2479,(2390,(2003,(2652,(2239,(2137,(1981,(2243,(2603,(2501,(1970,(2438,(2385,(2215,(2235,(2062,(2330,(2293,(2547,(2609,(2285,(2101,((2417,(2304,((2198,((1939,(2465,(2472,(2434,(1994,(2264,(2132,(2368,(2399,(2267,(2128,(2002,((2315,(2377,((2143,(2026,(2343,(2498,(2516,(2176,(2512,(2273,(2419,(2151,(2010,(2588,(2344,(2246,(2653,(2642,(2475,(2203,(1940,(2135,(2347,(1947,(2582,(2616,(2420,(2191,((2250,(2294,(1718,(2169,(2042,(1465,(2247,(2509,(2028,(2332,(2052,(2148,(2117,(1941,(1932,(1948,(2351,(2196,(2302,(2643,(2629,(2180,(2194,(2597,(2567,(2533,(2338,(1959,(2543,(2292,(2125,(2053,(1920,(2372,(2039,(2461,(2102,(2149,(2153,(2282,(2592,(2071,(2463,(2333,(2241,(2328,(2254,(2436,(1577,(2144,(2445,(2047,(2319,(2289,(2133,(2087,(2268,(2555,(2007,(2189,(2054,(2279,(2174,(2187,(2283,(2224,(2336,(2081,(2138,(2384,(2589,(2127,(2111,(2511,(2458,(2183,(1955,(2510,(2471,(2072,(2649,(2451,(2608,(2508,(2537,(2161,(2199,(2394,(2068,(2617,(2032,(2038,(2367,(1926,(2327,(2379,(2232,(2598,(1945,(2635,(2491,(2223,(2280,(2345,(2398,(2594,(1982,(1924,(2259,(2255,(2466,(1992,(2207,(2513,(2401,(2426,(2170,(2076,(2650,(2486,(2349,(2444,(2320,(2515,(1988,(2622,(2490,((1912,(2527,(2595,2483)5937)5938)5939,2443)5940)5941)5942)5943)5944)5945)5946)5947)5948)5949)5950)5951)5952)5953)5954)5955)5956)5957)5958)5959)5960)5961)5962)5963)5964)5965)5966)5967)5968)5969)5970)5971)5972)5973)5974)5975)5976)5977)5978)5979)5980)5981)5982)5983)5984)5985)5986)5987)5988)5989)5990)5991)5992)5993)5994)5995)5996)5997)5998)5999)6000)6001)6002)6003)6004)6005)6006)6007)6008)6009)6010)6011)6012)6013)6014)6015)6016)6017)6018)6019)6020)6021)6022)6023)6024)6025)6026)6027)6028)6029)6030)6031)6032)6033)6034)6035)6036)6037)6038)6039)6040)6041)6042)6043)6044)6045)6046)6047)6048)6049)6050)6051)6052)6053)6054)6055)6056)6057)6058)6059)6060)6061)6062)6063)6064)6065)6066)6067,2134)6068)6069)6070)6071)6072)6073)6074)6075)6076)6077)6078)6079)6080)6081)6082)6083)6084)6085)6086)6087)6088)6089)6090)6091)6092)6093)6094,1954)6095)6096)6097,1916)6098)6099)6100)6101)6102)6103)6104)6105)6106)6107)6108)6109)6110,2432)6111)6112,2396)6113)6114)6115,2415)6116)6117)6118)6119)6120)6121)6122)6123)6124)6125)6126)6127)6128)6129)6130)6131)6132)6133)6134)6135)6136)6137)6138)6139)6140)6141)6142)6143)6144)6145)6146)6147)6148)6149)6150)6151,2163)6152)6153)6154)6155)6156)6157)6158)6159)6160)6161)6162)6163)6164)6165)6166)6167)6168)6169)6170)6171)6172)6173)6174)6175)6176,2185)6177)6178,1952)6179)6180)6181)6182)6183)6184)6185)6186)6187)6188)6189)6190)6191)6192)6193)6194)6195)6196,2305)6197)6198,2208)6199)6200,2605)6201)6202)6203)6204,2522)6205,2205)6206,2599)6207,2048)6208)6209)6210)6211)6212)6213)6214)6215,2568)6216)6217,2288)6218)6219)6220)6221)6222,2099)6223)6224)6225)6226,2182)6227)6228,1965)6229)6230,2256)6231)6232)6233)6234)6235)6236)6237,2219)6238)6239)6240)6241)6242)6243)6244)6245)6246)6247)6248)6249)6250)6251)6252)6253)6254)6255)6256)6257)6258)6259)6260)6261)6262)6263)6264)6265)6266)6267)6268)6269,1930)6270)6271)6272,2286)6273,2158)6274)6275)6276)6277)6278)6279,2162)6280)6281)6282)6283)6284)6285)6286)6287)6288)6289)6290)6291)6292)6293)6294)6295)6296)6297)6298,2166)6299)6300)6301)6302)6303)6304)6305)6306)6307)6308)6309)6310)6311)6312)6313)6314)6315)6316)6317)6318)6319)6320)6321)6322)6323)6324,1949)6325)6326)6327)6328)6329)6330)6331,1969)6332)6333)6334)6335)6336)6337)6338)6339)6340)6341)6342)6343)6344)6345)6346)6347)6348)6349)6350)6351)6352)6353)6354)6355)6356)6357)6358)6359)6360)6361)6362)6363)6364)6365)6366)6367)6368)6369)6370)6371)6372)6373)6374)6375)6376)6377)6378)6379)6380)6381)6382)6383)6384)6385)6386)6387)6388)6389)6390)6391)6392)6393)6394)6395)6396)6397)6398)6399)6400)6401)6402)6403)6404)6405)6406)6407)6408)6409)6410)6411)6412)6413)6414)6415)6416)6417)6418)6419)6420)6421)6422)6423)6424)6425,2380)6426,2178)6427)6428)6429)6430)6431)6432)6433)6434)6435)6436)6437)6438)6439)6440)6441)6442)6443)6444)6445)6446)6447)6448)6449)6450)6451)6452)6453)6454)6455)6456)6457)6458)6459)6460)6461)6462)6463)6464)6465)6466,2454)6467)6468)6469)6470)6471,2269)8047)8048)8049)8050)8051,2569)8052)8053,(((2740,(2704,(292,(215,(74,(43,(11,((((((((((476,(501,(441,(399,(393,((145,((1549,(1193,(1387,(1297,(1486,(1171,(464,(427,(549,(198,(328,(306,(273,(218,(195,(78,(181,(4,(((219,(147,(6,(95,(327,(319,(89,(264,(110,(201,(259,(91,(8,(245,(193,((241,(49,(205,(52,(192,(34,(152,(3290,(2885,(3003,(2838,(293,(174,(112,(182,(253,(97,(157,(155,(216,(279,(305,(70,(262,(220,(71,(307,(32,(167,(243,(337,(93,(44,(151,(310,(333,(162,(111,(2,(20,(149,(226,(28,(14,(343,(144,(326,(116,(140,(312,(115,(137,(17,(41,(230,(214,((61,(47,(301,((((((234,(153,(183,(19,(321,(46,(86,(131,(278,(143,(177,(225,(68,(296,(263,(102,(227,(99,(175,(58,((202,(173,(124,(76,(270,(247,(120,(228,((240,(((191,(207,(190,(23,(237,(83,(51,(283,(206,(((229,(77,(117,(235,(250,(260,(129,(347,(126,(340,(63,(309,(135,(((251,(127,(197,(284,(281,(108,(184,(159,(317,((320,(196,(330,(254,(266,(187,(101,(24,(194,(94,(92,(302,(299,((57,(346,(80,(249,(242,(204,((208,((5,(73,(38,(344,(96,(60,(221,(106,(16,(29,(168,(22,(156,(295,(146,(53,(130,(88,(178,(84,(69,(121,(165,(50,(((222,(258,(85,(75,(274,(314,(87,((65,(7,(246,(45,(341,(268,(318,(298,(39,(105,(257,(132,(136,(339,(103,(345,(176,(290,(31,(30,(303,(148,(212,(133,(231,(308,((158,(248,(134,((276,(123,(55,(59,((334,(213,(161,(232,(72,(62,(224,(291,(141,(185,(236,(238,(82,(265,(261,(211,(13,(223,(172,(128,(313,(342,(272,(297,(169,(40,(199,(315,(280,(113,(9,(188,(142,(323,(285,(170,(322,(186,(104,(25,(21,(122,(239,(325,(26,(252,(304,(118,(56,(67,(271,(277,(200,(98,(203,(109,(331,(332,(54,(27,(329,(324,(171,(217,(189,(64,(150,(163,(119,(100,(269,((((0,(233,256)4039)4040,(42,33)4041)4042,(244,282)4045)4046,(81,286)4055)4056)4057)4058)4059)4060)4061)4062)4063)4064)4065)4066)4067)4068)4069)4070)4071)4072)4073)4074)4075)4076)4077)4078)4079)4080)4081)4082)4083)4084)4085)4086)4087)4088)4089)4090)4091)4092)4093)4094)4095)4096)4097)4098)4099)4100)4101)4102)4103)4104)4105)4106)4107)4108)4109)4110)4111)4112)4113)4114)4115)4116)4117)4118)4119)4120)4121)4122)4123)4124)4125)4126)4127,3)4128)4129)4130)4131)4132,79)4133)4134)4135)4136,66)4137)4138)4139)4140)4141)4142)4143)4144)4145)4146)4147)4148)4149)4150)4151)4152)4153)4154)4155)4156)4157)4158)4159)4160)4161)4162)4163,10)4164)4165)4166)4167)4168)4169)4170)4171,48)4172,1)4173)4174)4175)4176)4177)4178)4179)4180)4181)4182)4183)4184)4185)4186)4187)4188)4189)4190)4191)4192)4193)4194)4195)4196)4197,338)4198)4199,311)4200)4201)4202)4203)4204)4205)4206,180)4207)4208)4209)4210)4211)4212)4213)4214)4215)4216)4217)4218)4219)4220,300)4221)4222)4223)4224)4225)4226)4227)4228)4229)4230,139)4231,36)4232)4233)4234)4235)4236)4237)4238)4239)4240)4241)4242)4243)4244)4245,288)4246,125)4247)4248)4249)4250)4251)4252)4253)4254)4255)4256,164)4257,336)4258)4259,294)4260)4261)4262)4263)4264)4265)4266)4267)4268,166)4269)4270)4271)4272)4273)4274)4275)4276)4277)4278)4279)4280)4281)4282)4283)4284)4285)4286)4287)4288)4289,316)4290,267)4291,160)4292,138)4293,35)4294)4295)4296)4297,289)4298)4299)4300)4301)4302)4303)4304)4305)4306)4307)4308)4309)4310)4311)4312)4313)4314)4315)4316)4317)4318)4319)4320)4321)4322)4323)4324)4325)4326)4327)4328)4329)4330)4331)4332)4333)4334)4335)4336)4337)4338)4339)4340)4341)4342)4343)4344)4345)4346)4347)4348)4349)4350)4351)4352)4353)4354,255)4355)4356)4357)4358)4359)4360)4361)4362)4363)4364)4365)4366)4367)4368)4369)4370,154)4371,275)4372)4373)4374)4375)4376)4377)4378)4379)4380)4381)4382)4383)4384)4385)4386)4387)4388)4389)4390,(90,179)4393)4394)4395,(364,(564,(454,351)7452)7453)7454)7455)7456)7457)7458)7459)7460,210)7993,335)7994,287)7995,209)7996,114)7997,37)7998,18)7999,15)8000,12)8001)8002)8003)8004)8005)8006)8021)8022,2814)8023,(((801,(692,(892,(891,(((858,(871,(895,(881,(870,((859,(887,(874,(872,(873,(885,(867,(877,(776,(855,(852,(717,((841,(((884,(893,(864,(832,(790,((785,(854,(798,(825,(788,(851,(886,(882,(876,(863,(878,(888,(889,(861,(729,(802,(796,(791,(691,(702,(725,((767,(732,(806,(771,(714,(839,(822,(818,(789,(721,(712,((816,(746,(833,(736,(768,(733,(782,(786,(742,(850,(846,(((804,(869,(890,(813,(811,((((812,(880,(753,(769,(759,(821,((808,(799,(756,(826,((836,(716,(763,(723,((795,(794,(837,(762,(730,(803,(720,((843,(737,(693,(844,(778,(765,(793,(755,(809,(783,(758,(741,(831,(835,(748,(779,(797,(787,(848,((734,(807,(764,((718,(838,((772,(856,((849,(708,(814,(711,(738,(728,(703,(845,(701,(727,(706,(820,(847,(829,(760,(842,(800,(784,(774,(810,(731,(827,(766,(773,(781,(853,(752,(745,(695,(726,(694,(724,(834,(696,(719,(705,(713,(815,(697,(819,(840,(805,(747,(823,(830,(792,(828,(780,(754,(824,(770,(777,(688,(740,((775,(686,(749,757)5704)5705)5706,739)5707)5708)5709)5710)5711)5712)5713)5714)5715)5716)5717)5718)5719)5720)5721)5722)5723)5724)5725)5726)5727)5728)5729)5730)5731)5732)5733)5734)5735)5736)5737)5738)5739)5740)5741)5742)5743)5744)5745)5746)5747)5748)5749)5750)5751)5752)5753)5754)5755)5756)5757)5758)5759)5760)5761,698)5762)5763)5764,687)5765)5766)5767,817)5768)5769)5770)5771,709)5772)5773)5774)5775)5776)5777)5778)5779)5780)5781)5782)5783)5784)5785)5786)5787)5788)5789)5790)5791,722)5792)5793)5794)5795)5796)5797)5798)5799,751)5800)5801)5802)5803)5804,715)5805)5806)5807)5808)5809,690)5810)5811)5812)5813)5814)5815)5816,761)5817,710)5818,700)5819)5820)5821)5822)5823)5824,735)5825,704)5826)5827)5828)5829)5830)5831)5832)5833)5834)5835)5836)5837,707)5838)5839)5840)5841)5842)5843)5844)5845)5846)5847)5848)5849,689)5850)5851)5852)5853)5854)5855)5856)5857)5858)5859)5860)5861)5862)5863)5864)5865)5866)5867)5868)5869)5870)5871,743)5872)5873)5874)5875)5876)5877,744)5878,750)5879)5880,699)5881)5882)5883)5884)5885)5886)5887)5888)5889)5890)5891)5892)5893,(879,(894,866)7465)7466)7467)7468)7469)7470)7471)7472,883)7987,875)7988)7989)7990)7991)7992,860)8007,(3974,(3798,(3748,(3729,(3453,(((((((((3581,(3919,(3523,(3516,(3639,(3883,(3695,(3649,(3613,(3562,(3479,(3481,(3594,(3898,(3502,(3911,(3864,(3813,(3700,(3669,(3871,(3857,(3917,(3595,(3567,(3541,(3473,(3912,(3874,(3892,(3739,(3657,(3743,(3725,(3868,(3819,(3445,((3922,(3939,(3963,((3806,(3441,(3447,(3894,(3580,(3905,(3679,(3585,(3863,(3546,(3446,(3624,(3814,((3682,(3549,(3536,(3812,(3606,(3662,(3745,(3727,(3949,(((865,(3744,(3717,(3691,(3560,(3875,(3807,(3942,(3879,(3854,(3808,(3732,(3589,(3959,(3688,(3704,(3771,(3699,(3952,(3513,(3439,(3932,(3716,(3647,(3844,(3616,(3638,(3848,(3733,(3954,(3742,(3849,(3444,(3946,(3781,(3787,(3751,(3923,(3749,(3789,(3653,(3887,(3537,(3816,(3799,(3676,(3489,(3665,(3652,(3694,((3904,(3890,(3678,(3724,(3539,(((3914,(3583,(3671,((3958,(3754,(3507,(3973,(3767,(3770,(3614,(3823,(3878,(3483,(3763,(3459,(3622,((3784,(((3937,(3630,(3602,(3474,((3752,(3972,(3634,(3761,(3554,(3510,(3466,(3915,(3956,(3443,(3469,(3464,(3738,(3529,(3945,((((3855,((3792,((3511,(3620,(3648,(3646,(3976,(3903,(3493,(((3909,(3458,(3643,(3803,((3896,(3591,(3509,(3706,(3714,(3969,(3569,(3900,(3822,(3486,(3833,(3711,((3870,(3951,(3794,(3826,(3506,(3680,(3924,((3690,(3931,((3524,(3786,(3558,(3947,(3768,(3818,(3593,(3906,(3601,(3623,(3866,(((3881,(3645,(3782,(3468,(3810,(3719,(3584,(3535,(3793,(3758,(3568,(3764,(3499,(3821,(3564,(3927,(3617,(3534,(3825,(3893,(3965,(3910,(3899,(3701,(3675,(3571,(3774,(3757,(3579,(3465,(3476,(3975,(3708,(3957,(3519,(3837,(3836,(3759,(3600,((3561,((3720,(3566,(3961,(3925,(3723,(3530,(3487,(3551,((3941,(3632,(3565,(3637,(3477,(3544,((3918,(((3901,((3664,(((3964,((3967,(3696,(3655,(3587,(3920,(3783,(3960,(3478,(3809,(3791,(3500,(3776,(((3839,(3897,(3619,((3628,((3861,(3660,(3775,(3661,(3908,(3548,(3805,(3626,(3916,((3970,((3847,(3772,(3610,((3659,(3888,(3979,(3592,(857,(3880,(3522,(3552,(3950,(3621,(3454,(3547,((3755,(3461,(3872,(3543,(3934,(3492,(3603,(3779,(3796,(3940,(3503,(3556,(3817,(3654,(3533,(3512,(3929,(3703,(3484,(3944,((3760,(3780,(3517,(862,(3574,(3762,(3452,(3658,(3785,((3683,(3462,(3891,((3485,(3627,(3642,(3450,(3913,(3559,(3831,(3697,(3845,(3707,(3497,(3527,(3670,(3730,(3635,((3578,((3542,((3828,(3557,(3731,(3518,(3528,(3858,(3640,(3790,(3687,(3514,(3605,(3860,(3804,(3737,(3702,(3488,(3576,(3930,((3884,(3926,(3902,((3824,(3475,(3838,(3966,(3611,(3491,(3438,(3800,(3440,(((3750,(3943,(3609,(3721,(3693,(3604,(3480,(3448,((1085,(3651,(3586,(3674,(3841,(3545,(3677,(3456,(3596,(3971,(3449,(3938,(3877,(3734,(3756,(3851,(3501,(3830,(3633,(3495,(3577,(3842,(3873,(3692,(3525,(3563,(3948,(3968,(3886,(3667,(3962,(3797,(3573,(3625,(3672,(3550,(3684,(3520,(3865,((3496,(3747,(3607,(3936,(3977,(3827,(3598,(3482,(3644,(3840,(3472,(3685,(3508,(3698,(3876,(3505,(3850,(3778,(3470,(3773,(3769,(3526,(3663,(3802,(3553,(3715,(3815,(3735,(3753,(3615,(3705,(3608,(3498,((3442,(3722,(3907,(3455,(3740,(3867,(3835,(3713,(3862,(3629,(3599,(3728,(3590,(3710,(3636,(3666,(3921,((3437,(3846,3746)4049)4050,(3885,3801)5172)5173)5174)5175)5176)5177)5178)5179)5180)5181)5182)5183)5184)5185)5186)5187)5188)5189)5190,3521)5191)5192)5193)5194)5195)5196)5197)5198)5199)5200)5201)5202)5203)5204)5205)5206)5207)5208)5209)5210)5211)5212)5213)5214)5215)5216)5217)5218)5219)5220)5221)5222)5223)5224,3588)5225)5226)5227)5228)5229)5230)5231)5232)5233)5234)5235)5236)5237)5238)5239)5240)5241)5242)5243)5244)5245)5246)5247)5248)5249)5250)5251)5252)5253)5254)5255)5256)5257)5258)5259)5260)5261)5262)5263)5264,3540)5265)5266)5267)5268)5269)5270)5271)5272)5273,3618)5274,3656)5275)5276)5277)5278)5279)5280)5281)5282)5283)5284,3852)5285)5286)5287)5288,3471)5289)5290)5291)5292)5293)5294)5295)5296)5297)5298)5299)5300)5301)5302)5303)5304)5305)5306)5307,3741)5308)5309,3889)5310)5311,3788)5312)5313)5314)5315)5316)5317)5318)5319)5320)5321)5322)5323)5324)5325)5326)5327,3832)5328)5329)5330)5331,3681)5332)5333)5334)5335)5336)5337)5338)5339)5340)5341,3736)5342)5343)5344)5345)5346)5347)5348)5349)5350)5351)5352)5353)5354)5355)5356)5357)5358)5359)5360)5361)5362,3712)5363)5364)5365)5366)5367)5368)5369)5370)5371)5372)5373)5374)5375,3457)5376)5377)5378)5379,3795)5380)5381,3686)5382)5383)5384)5385)5386)5387)5388)5389)5390)5391,3765)5392)5393,3953)5394)5395)5396)5397,3504)5398,3933)5399)5400)5401)5402)5403)5404)5405)5406)5407)5408)5409)5410)5411,3641)5412)5413,3766)5414,3597)5415)5416,3928)5417)5418,3575)5419,3467)5420)5421,3689)5422)5423)5424)5425)5426)5427)5428,3859)5429)5430)5431)5432)5433)5434)5435)5436)5437,3673)5438)5439,3612)5440)5441)5442)5443)5444)5445)5446)5447)5448)5449)5450)5451)5452)5453)5454)5455)5456)5457)5458)5459)5460)5461)5462)5463)5464)5465)5466)5467)5468)5469)5470)5471)5472)5473)5474)5475)5476)5477)5478)5479,3532)5480,3834)5481)5482)5483)5484)5485)5486)5487)5488)5489)5490)5491)5492,3869)5493)5494)5495,3463)5496)5497)5498)5499)5500)5501)5502)5503,3718)5504)5505)5506)5507)5508)5509)5510)5511)5512)5513)5514)5515)5516,3555)5517)5518)5519)5520)5521,3895)5522,3572)5523)5524)5525)5526)5527)5528)5529)5530,3843)5531)5532,3829)5533)5534,3631)5535,3515)5536,3460)5537)5538)5539)5540)5541)5542)5543)5544)5545)5546)5547)5548)5549)5550)5551)5552,3726)5553)5554)5555)5556)5557,3668)5558,3777)5559)5560,3955)5561)5562)5563)5564)5565)5566)5567)5568)5569)5570)5571)5572)5573)5574,3582)5575)5576)5577)5578,3882)5579,3494)5580)5581)5582)5583)5584)5585,3978)5586)5587)5588)5589)5590)5591)5592)5593)5594)5595)5596)5597)5598)5599)5600)5601)5602)5603)5604)5605)5606)5607)5608)5609)5610)5611)5612)5613)5614)5615)5616)5617)5618)5619)5620)5621)5622)5623)5624)5625)5626)5627)5628)5629)5630)5631)5632)5633)5634)5635)5636,868)5637,3531)5638)5639)5640)5641)5642)5643)5644)5645)5646)5647,3490)5648)5649)5650)5651)5652)5653)5654)5655)5656)5657)5658)5659)5660)5661,3811)5662)5663)5664)5665,3538)5666)5667)5668)5669)5670)5671)5672)5673)5674)5675)5676)5677)5678)5679)5680)5681)5682)5683)5684)5685)5686)5687)5688)5689)5690)5691)5692)5693)5694)5695)5696)5697)5698)5699)5700)5701)5702)5703,3570)8008,3935)8009,3856)8010,3853)8011,3820)8012,3709)8013,3650)8014,3451)8015)8016)8017)8018)8019)8020)8070)8071)8073,(2021,(((2311,(2536,(2287,(2055,(2136,((1989,(2353,(1963,(2462,(2407,(2164,(2392,(2056,(2179,(2300,(2210,(2554,(2060,(2591,(2213,(2574,(2489,(2563,(2532,(2631,(2098,(2552,(2306,(2579,(2477,((2329,(2046,(1953,(2418,(2646,(2334,(2556,(2237,(2623,(2575,(2484,(2077,(2467,(2216,(2063,(2261,(2521,(2040,(2485,(2086,(2495,(2546,(2212,(2551,(2539,(1997,(2115,(2386,(2122,(2257,(2469,(1986,(2095,(2253,(2005,(2083,(2408,(2430,(2200,(2307,(2433,(2504,(2348,(2446,(2112,(2619,(2600,(2359,(1979,(2654,(2370,(2339,(2074,(1918,(2482,(1929,(2638,(2423,(2033,(2154,(2093,(2381,(2276,(2190,(2363,(2045,(2559,(2376,(2064,(2323,(2428,(2564,(2409,(2184,(2593,(2278,(2043,(2188,(2630,(2356,(2150,(2266,(1917,(2602,(2550,(2542,(2104,(2460,(2352,(2655,(2139,(2464,(2118,(1983,(2553,(2340,(2088,(2103,(2590,(2308,(2414,(2124,(2374,(2604,(2220,(2271,(2206,(2059,(2354,(1943,(2121,(2410,(2331,(2561,(1938,(2586,(2218,(2069,(2625,(2615,(2275,(2549,(2507,(2326,(2240,(2395,(2492,(2244,(2233,(2142,(2404,(2607,(2108,(2601,(2090,(2624,(1962,(2290,(2573,(1984,(1971,(2078,(2123,(1993,(2506,(2560,(2131,(2369,(2324,(2172,(1946,(2201,(2030,(2500,(2037,(1966,(2140,(2520,(2578,(2020,(2299,(2084,(2109,(1985,(2611,(2229,(2309,(2073,(2526,(2165,(2524,(2499,2442)7773)7781)7782)7783)7784)7785)7786)7787)7788)7789)7790)7791)7792)7793)7794)7795)7796)7797)7798)7799)7800)7801)7802)7803)7804)7805)7806)7807)7808)7809)7810)7811)7812)7813)7814)7815)7816)7817)7818)7819)7820)7821)7822)7823)7824)7825)7826)7827)7828)7829)7830)7831)7832)7833)7834)7835)7836)7837)7838)7839)7840)7841)7842)7843)7844)7845)7846)7847)7848)7849)7850)7851)7852)7853)7854)7855)7856)7857)7858)7859)7860)7861)7862)7863)7864)7865)7866)7867)7868)7869)7870)7871)7872)7873)7874)7875)7876)7877)7878)7879)7880)7881)7882)7883)7884)7885)7886)7887)7888)7889)7890)7891)7892)7893)7894)7895)7896)7897)7898)7899)7900)7901)7902)7903)7904)7905)7906)7907)7908)7909)7910)7911)7912)7913)7914)7915)7916)7917)7918)7919)7920)7921)7922)7923)7924)7925)7926)7927)7928)7929)7930)7931)7932)7933)7934)7935)7936)7937)7938)7939)7940)7941)7942)7943)7944)7945)7946)7947)7948)7949)7950)7951,1925)7952)7953)7954)7955)7956)7957)7958)7959)7960)7961)7962)7963)7964)7965)7966)7967)7968)7969)7970)7971)7972)7973)7974)7975)7976)7977,2606)7978)7979)7980)7981)7982)7983,2258)7984,2613)7985)7986)8074,(((((1967,(1558,(((((674,(638,(608,(585,(((((((((1834,(1581,(1560,(1206,(911,(((((((1208,(1105,(1002,((1890,(1627,1027)6475)6476,(1151,(1252,(1254,(1384,(1045,(1197,(1788,(1368,(955,(1111,(1030,(909,(1043,((1586,(1046,(1194,(552,(384,(1253,(1071,(((1693,(1240,(1353,(1760,(356,(411,(401,(386,(1546,(1562,(1499,(1218,(979,(956,(1403,(1016,(1889,(987,(1177,((((468,(443,((((((1755,(1690,(667,(594,(1138,(900,(649,(1896,(1057,(1607,(1711,(1776,(1657,(910,(1022,(1202,(1200,(1713,((1053,(((1664,(655,(657,((663,(574,((631,(682,(639,(584,(622,(616,((588,((633,((623,(618,(611,(684,(598,(625,(603,(589,(677,(597,(612,(678,(619,(636,(685,(573,(605,(592,(626,(664,(579,(653,(680,(654,(617,(666,(630,(644,((472,(1264,(1295,((1762,(1474,(609,(590,(1455,(1654,((620,((533,(485,((459,((505,(381,(486,(509,(551,(424,(554,(516,(457,(477,(357,(518,(435,(912,(937,(1248,(1731,(1162,(478,(534,((480,(1759,(1814,(1599,(1696,(985,(1840,(1540,(540,(1640,((1808,((1013,(1268,(529,(466,(429,(522,(1134,(974,(1000,(1631,(1490,((1154,(1093,(1749,(1364,(1090,(1244,(943,(1094,(1492,((1007,(1286,(596,((((1728,((1350,((1884,(989,(1635,(1015,(1438,(1578,(1550,(1115,(1682,(1903,(1315,(1392,(1229,(1190,(1873,(988,((1279,(1647,(1432,(1859,(1841,(1655,(1872,(1862,(981,(902,(1100,(1257,(1129,(1019,(1036,(1680,(1413,((1720,(1576,(1082,(1292,(1404,(975,(1379,(1120,(1716,(1715,(1298,(1691,(1462,(957,(1611,(1587,(1857,(1284,(1628,(1148,(1009,(1899,(1596,(1322,(1423,(1060,(1426,(1021,(1067,(1231,(1636,(1583,(1345,(1479,((1227,((1158,(1573,(1475,(1235,(1459,(1347,(1192,((1104,(933,(1704,((1081,(1406,(969,(1451,(919,(941,((1277,(896,(1595,((898,(1508,(1848,(1309,(1018,(1281,(1245,(1732,(1582,(1303,(1751,(1824,(1812,(1108,(1382,(1261,(1099,(1396,(1102,(1820,(1454,(1742,(1066,(1020,(1894,(1014,(942,(1661,(1204,(1495,(1282,(984,(1786,(1591,(1871,(1893,(1489,(971,(1215,(1706,(1515,(1649,(1032,(1850,(1729,((1334,(1646,(1503,(1241,(1481,(1828,(1373,((1127,(1847,(((1089,(1385,(1531,(((994,((1166,(1739,(1005,((1650,(1170,(1412,((1745,(1418,(1221,(940,(1249,(1756,(1213,(1869,(1781,((1042,(1228,(1308,(1141,(965,((1035,(1672,(1667,(964,((1169,(1785,(1296,(((1246,(1139,(1783,(1906,(1106,(1415,(1904,((1306,(977,(1624,(1428,(1072,(1815,(949,(1121,(1681,(1507,(1541,(1348,(1189,(1109,(1011,(1041,(389,(1259,(1727,(1010,(1131,(1725,((1304,(1529,(1037,(1770,(1469,(1633,(1236,(1500,(924,(1482,(1188,(1299,(1167,(1310,(1634,(1225,(1504,(1496,(1275,(1260,(1355,(944,(1686,(917,(1709,(1703,(1876,(1472,((1338,(1159,(1051,(1070,(1525,(1258,(1569,(1366,(1738,(1658,(1630,(1062,(1435,(1183,(1444,(1699,(1436,(1575,(1247,(1052,(1818,(1885,(1807,(914,(913,(1901,(1497,(1566,(939,(1234,(1356,(1829,(1478,(1453,(1064,(931,(1831,(1212,(1343,((1422,(433,(469,(369,(1429,(968,((587,(449,(405,(568,(541,(1910,(1217,(1794,(491,(502,(490,(407,(528,(646,(442,(1223,(905,(634,(508,((440,((1743,((1473,(((1897,(410,(372,(470,(1536,(1397,(1095,(962,(1294,(1671,((1357,(1526,(1025,((1425,(((1464,((1660,(1801,(1773,(1625,((107,(904,1224)4391)4392,(1408,(915,(1790,(1694,(1545,(601,(1679,(976,(1400,(1870,(1695,(1881,(1142,(1012,(948,(1763,(1766,(1878,(1332,(1446,(1565,(930,(1318,(1210,(1113,(1427,(1487,(1543,(1778,(1606,(1080,(1001,(1844,(1767,(1114,(1744,(1677,(1514,(1155,(1349,(1300,(1740,(1882,(1645,((1512,(1673,(936,(1616,(1122,(1313,(1237,(1692,(1179,(1574,(1374,(1320,(1358,((641,((446,((413,(361,(474,(403,(359,(450,(489,(481,(396,(354,(543,((362,(425,((519,(426,(531,(547,(510,((558,(546,(455,(418,(355,((458,(555,(504,((548,(421,(416,(557,(397,(422,(415,(495,((445,((570,(451,(420,(473,(560,((((645,(452,(((368,(398,(409,(637,((434,(604,(651,(606,(614,(479,(511,(394,(683,((471,(669,(580,(496,((482,(430,(487,(388,(419,(404,(556,(563,(439,(444,(523,(545,(537,(493,(538,(392,(484,(503,((423,(432,((591,((414,(642,581)4043)4044,(353,(363,(542,(567,(527,(515,(460,(520,(366,(500,(553,(492,(391,(483,(378,(374,(514,(402,(475,(566,(544,(497,((507,(431,(417,(456,(376,(412,(506,(436,(428,(513,(559,(561,(465,(395,(400,(438,(524,(408,(461,(517,(373,(525,(462,(453,(498,(572,(467,(499,(532,(437,(406,(387,(348,(383,377)4396)4397)4398)4399)4400)4401)4402)4403)4404)4405)4406)4407)4408)4409)4410)4411)4412)4413)4414)4415)4416)4417)4418)4419)4420)4421)4422)4423)4424)4425)4426)4427)4428)4429,370)4430)4431)4432)4433)4434)4435)4436)4437)4438)4439)4440)4441)4442)4443)4444)4445)4446)4447)4448)4449)4450)4451)4452)4453)4454,360)4455)4456)4457,463)4458)4459)4460)4461)4462)4463)4464)4465)4466)4467)4468)4469)4470)4471)4472)4473)4474)4475)4476,512)4477)4478)4479)4480)4481,488)4482)4483)4484)4485)4486)4487)4488)4489)4490)4491,526)4492)4493)4494)4495)4496,536)4497,352)4498)4499)4500,676)4501,375)4502,494)4503)4504)4505)4506)4507)4508,565)4509)4510,385)4511)4512)4513)4514)4515)4516)4517)4518)4519,569)4520)4521)4522)4523,367)4524)4525)4526)4527)4528)4529,350)4530)4531)4532)4533)4534)4535,521)4536)4537)4538,365)4539)4540)4541)4542)4543)4544)4545)4546)4547)4548)4549)4550,535)4551)4552,371)4553)4554,671)4555)4556)4557)4558)4559)4560)4561)4562)4563)4564)4565)4566)4567)4568,610)4569)4570)4571)4572)4573)4574)4575)4576)4577)4578)4579)4580)4581)4582)4583)4584)4585)4586)4587)4588)4589)4590)4591)4592)4593)4594)4595)4596)4597)4598)4599)4600)4601)4602)4603)4604)4605)4606)4607)4608)4609)4610)4611)4612)4613)4614)4615)4616)4617)4618,1506)4619)4620,390)4621,539)4622)4623,907)4624)4625)4626)4627,1853)4628)4629)4630)4631)4632)4633)4634)4635)4636)4637)4638,1602)4639,382)4640)4641,562)4642)4643,530)4644)4645,673)4646)4647)4648)4649)4650)4651)4652)4653)4654)4655)4656)4657)4658)4659)4660)4661)4662)4663)4664)4665,1226)4666)4667)4668)4669)4670)4671)4672,629)4673)4674)4675)4676)4677)4678)4679)4680)4681)4682)4683)4684)4685)4686)4687)4688)4689)4690)4691)4692)4693)4694)4695)4696)4697)4698)4699)4700)4701)4702)4703)4704)4705)4706)4707)4708)4709)4710)4711)4712,1443)4713)4714)4715)4716)4717)4718)4719)4720)4721)4722)4723)4724)4725)4726)4727)4728)4729)4730)4731)4732)4733)4734)4735)4736)4737)4738)4739)4740)4741,1342)4742)4743)4744)4745)4746)4747)4748)4749)4750)4751)4752)4753)4754)4755)4756)4757)4758)4759)4760)4761)4762)4763)4764,1311)4765)4766)4767)4768)4769)4770)4771)4772,1372)4773,586)4774)4775)4776)4777,652)4778)4779)4780)4781)4782,1152)4783)4784)4785)4786)4787)4788,986)4789)4790)4791)4792)4793)4794)4795)4796)4797)4798,1748)4799)4800)4801)4802,1830)4803)4804)4805)4806,1855)4807)4808,1324)4809,954)4810)4811)4812)4813,1354)4814,1143)4815)4816)4817,1273)4818)4819)4820)4821)4822)4823)4824)4825,1502)4826)4827)4828)4829)4830)4831)4832)4833)4834)4835)4836)4837)4838)4839)4840)4841)4842)4843)4844)4845)4846)4847)4848)4849)4850)4851)4852)4853)4854)4855)4856)4857)4858)4859)4860)4861)4862)4863)4864)4865)4866)4867)4868)4869)4870)4871,1316)4872)4873)4874)4875,1907)4876)4877)4878)4879)4880)4881)4882,1638)4883)4884)4885)4886,1448)4887)4888)4889)4890)4891)4892)4893)4894,1103)4895)4896,1147)4897)4898)4899)4900)4901)4902)4903)4904)4905)4906)4907)4908)4909)4910)4911)4912)4913)4914)4915)4916)4917)4918)4919)4920)4921)4922)4923)4924)4925)4926)4927)4928)4929)4930)4931,1263)4932)4933)4934)4935)4936)4937)4938)4939)4940)4941)4942)4943)4944)4945)4946)4947)4948)4949,1414)4950)4951)4952)4953)4954)4955)4956)4957)4958)4959)4960)4961)4962)4963)4964)4965)4966,1044)4967)4968,1381)4969)4970,1875)4971,1764)4972,1592)4973)4974)4975)4976,1887)4977)4978)4979)4980)4981)4982)4983)4984)4985)4986,1168)4987)4988)4989)4990)4991)4992)4993)4994)4995)4996)4997)4998,935)4999)5000,1777)5001)5002)5003)5004)5005)5006)5007)5008)5009)5010)5011,593)5012)5013)5014)5015)5016)5017)5018)5019)5020)5021)5022)5023)5024)5025)5026)5027)5028)5029)5030)5031)5032,380)5033)5034,349)5035)5036)5037,945)5038)5039,1510)5040)5041)5042)5043)5044)5045)5046,1417)5047)5048)5049)5050,571)5051)5052)5053)5054)5055)5056)5057)5058)5059)5060)5061)5062)5063)5064)5065)5066)5067)5068)5069)5070)5071)5072)5073)5074)5075)5076)5077)5078)5079,575)5080)5081,672)5082)5083,656)5084)5085)5086)5087)5088)5089)5090,679)5091)5092)5093,621)5094)5095)5096)5097,1362)5098,448)5099)5100,660)5101)5102)5103)5104)5105)5106)5107)5108)5109)5110)5111)5112)5113)5114)5115)5116)5117)5118)5119,1430)5120,1065)5121,1233)5122,1176)5123,379)5124)5125)5126,648)5127,1326)5128,1270)5129)5130)5131)5132)5133)5134)5135)5136)5137)5138)5139)5140)5141)5142)5143)5144)5145)5146)5147)5148,1203)5149,1394)5150)5151)5152)5153)5154)5155)5156)5157,1371)5158)5159)5160)5161)5162)5163)5164)5165)5166)5167)5168)5169)5170)5171)6477)6478)6479)6480,1096)8024,1466)8025,1386)8026,1145)8027,1119)8028,918)8029)8030)8031)8032)8033)8034,358)8035,550)8036,447)8037,668)8038,624)8039,613)8040,607)8041,602)8042)8043)8044)8045)8046,1276)8059,1854)8060,1395)8061,1262)8062)8063)8064,(576,(595,(650,(635,(582,(681,(640,(577,(661,(659,(658,(643,(627,(600,(578,(675,(670,(583,(662,(615,(599,(632,(647,(665,628)7713)7714)7715)7716)7717)7718)7719)7720)7721)7722)7723)7724)7725)7726)7727)7728)7729)7730)7731)7732)7733)7734)7735)7736)8067,(4035,(4024,(4022,(4015,(3984,((((4036,(3999,(4005,(3983,(4034,(4032,(4006,(4011,(3991,(3989,(4033,(3992,(4037,(3985,(3993,(3988,(3995,(4000,(4017,(4026,(3986,(4021,(4014,((3982,(4019,(4009,(3981,(3998,(3997,(4018,(3994,(4030,(4013,(4023,(4004,(4038,(4031,(4020,(4027,(4002,(((3980,(4012,3987)4051)4052,(4029,4001)4053)4054,(4028,3996)5894)5895)5896)5897)5898)5899)5900)5901)5902)5903)5904)5905)5906)5907)5908)5909)5910)5911)5912,4003)5913)5914)5915)5916)5917)5918)5919)5920)5921)5922)5923)5924)5925)5926)5927)5928)5929)5930)5931)5932)5933)5934)5935)5936,(4025,(4016,(4007,3990)7461)7462)7463)7464,4010)7774,4008)7775)7776)7777)7778)7779)7780)8068,(((1784,(1186,(1747,(1363,(1314,(958,(1648,(992,(938,(1787,(1493,(1880,(1319,(1568,(1733,(1548,(1216,(1097,(1118,(1798,(903,(901,(1333,(1601,(1378,(1468,(1232,(1137,(1837,(1895,(1533,(1452,(963,(1629,1802)7737)7738)7739)7740)7741)7742)7743)7744)7745)7746)7747)7748)7749)7750)7751)7752)7753)7754)7755)7756)7757)7758)7759)7760)7761)7762)7763)7764)7765)7766)7767)7768)7769)7770,1424)7771,1892)7772)8069,((((3183,(3071,(3031,((899,(1442,(1133,(1797,((1856,(1346,(1498,(1220,(998,((1463,(1239,((1874,(1710,(1084,(1700,(1091,(1771,(1069,(972,(926,(1063,(1900,(1484,((((1116,(((1519,(1278,((1532,(959,(1524,(1843,(1572,(1393,(1832,(1068,(1365,((1389,(1734,(1054,(1285,(1293,(1112,(1724,(1092,(1754,(1110,((1074,(1722,(1723,(995,(1219,(1571,(1542,(1040,(983,(1336,((1457,(1535,(1201,(1135,(1056,(1029,(982,(1772,(1470,(1811,(1047,(1644,(1340,(1688,(1877,(1075,(1209,(906,(1375,(1049,(1359,(1280,(1207,(1028,(1160,(1402,(1796,((1388,(1483,(1609,(1580,(997,(1898,(1205,(1605,(1409,(1173,(1861,(1620,(1344,(1737,(1659,(1653,(1538,(1632,(1287,((1652,(1288,(1380,(1685,(953,(1271,(1351,(1156,(1809,(1741,(1868,(1024,(1083,(1619,(1826,(1604,(1370,(1163,((1238,(1330,(1447,(1539,(1665,(1712,(1789,(1256,(1456,(1845,(1289,(1153,(1598,(1214,(1117,(1864,(999,(1172,(1331,((1191,(1101,(1488,(1125,(1842,(1902,(1006,(1795,((1816,(1339,(1810,(1547,(1181,(1600,(1198,(1819,(1623,(1250,(1107,(1668,(1132,(1335,(1849,(1867,(1222,(1086,(1416,(1886,(1128,(1004,(1736,(1879,(1793,(1079,(1839,(1610,(1341,(1530,(1707,(1597,(1230,(1721,(1184,(1752,(1078,((1717,(1302,(1757,(1390,(1017,(1471,(1291,(1491,(952,(1689,(1557,(1367,(1199,(1399,(1551,(1617,(1662,(1059,(1746,(1823,(1750,(1267,(1714,(1516,(1791,(1804,(978,(1076,(1211,(1800,(934,(1391,(1827,(1888,(947,(1584,(1683,(1813,(1833,(1622,(1761,(1431,(1730,(1613,(1603,(1522,(1608,(1643,(1799,(1243,(1589,(1559,(1735,(1126,(1621,(1185,(1149,(993,(1669,(1663,(1290,(1554,(1269,(1377,(925,(1675,(1146,(980,(1753,(1352,(921,(1520,(1768,(1026,(1570,(1891,(1361,(946,(1420,(1509,(1329,(1612,(1376,(1835,(1528,(1563,(1124,(1048,(1255,(1637,((1265,(967,(927,(1195,(1175,(1614,(1130,(1467,(1449,((1485,((1782,(1639,(1765,(1460,(1501,(1398,(1480,(1305,(1513,(897,(1123,(1590,((1769,((1851,(1774,(3227,(1157,(1383,(1034,(2952,(1905,(1544,(1050,(1055,(1266,(1822,(1441,(1564,(1434,(1779,(1585,((3282,(3408,(3125,(3134,(1411,(1618,(1523,((1458,((920,(996,(1476,(1670,(1527,(1846,(1860,(1437,(1594,((1697,(1023,(1073,(1008,((1537,(1805,((1908,(1865,(1440,(((1909,(1863,((1911,(1321,(1150,(1858,(1626,(1702,(1161,(1518,(1327,(1337,(1445,(950,(1708,(928,(1061,(1553,(951,(970,(1033,(1325,((1676,(1698,(1274,(1174,(1328,(1615,((1433,(1806,(908,(1511,(1307,(1144,(1825,(1410,(1494,(1136,(1687,(1588,(1593,(1705,(1567,(1360,(1866,(1555,(1421,(1719,((1792,(1678,(1852,(1301,(1803,(1088,(961,(1477,(1283,(1641,(973,(1461,(1369,(1178,(923,(1087,(1838,(929,(1701,(991,(1561,(1031,(1165,(1098,(1317,(2889,(1552,(3091,(2824,(2721,(2671,(2808,(3121,((3375,(2714,(2961,(1674,((2805,(3310,(3336,(3322,(3126,(2886,((3128,((3083,(3066,(3368,(3155,(3028,(3063,(3012,(2949,(2983,(2933,(2997,(2935,(3429,(3401,(3376,(2926,(3427,(3338,(3425,((1140,(2980,(3270,(((3432,(2893,(3159,((3389,(3217,(3161,(((1419,(3398,(3266,(3308,(2903,(2725,(3424,(2898,((1758,((2759,(2826,(2895,((3402,((3405,(2790,(2760,((2688,(3164,(2677,(2941,(1642,(3361,(2822,(2802,(2693,((3061,(1726,(1656,(3057,(((3222,(2771,(2685,(2968,(990,(3245,(3278,(3205,(3343,(2957,(3254,((3358,(3133,(2764,(2999,((2709,(2700,(3067,(2818,(1666,(1505,(2707,(2979,(2964,((3340,(3157,(2734,(2923,(3292,(2820,(2962,(3244,(2697,(3246,(3156,(2744,(3190,(2954,(3383,(2723,(3367,(3281,((3349,(2727,(3024,(3328,(2858,((3374,(2847,(3144,(3242,(2856,(3409,(3329,((3373,(2946,(3173,((2682,(3151,(3326,(2831,(3312,(3050,(3048,(3249,(2934,((2696,(2735,(3307,(3138,(3117,((3020,(2795,(3110,(2813,(3178,(2848,(2803,(2667,(3211,(3431,((2868,(2825,(3357,(3043,(3081,(3248,(2836,(2841,(3221,((2870,(2762,(3275,(2784,(2690,(1405,(3404,(2965,(3069,((3068,(3093,(3410,(3371,(3058,(2995,(3276,(2938,((3393,(3241,(3103,(3359,(3167,(3279,(3186,(2668,(3380,(2812,(3421,(3009,(3420,(2779,(3289,(3215,(3124,(3194,(2947,((2819,(3075,(3223,(3001,(3356,(2859,(2702,(3189,(3109,(3285,(3176,((2829,(3273,(2775,(3062,(2832,((2739,((2711,(2830,(2713,(2892,(3207,(2728,(3086,(3412,(3077,(3295,(3177,(3346,(3415,(3168,(3236,(2737,((2918,(3018,(3379,(3331,(3162,(3233,(2724,(2865,(3032,(2715,(2686,(3264,(2843,(3255,(3187,(3259,(3365,(3341,(2758,(3196,(3369,(2718,(3263,(3256,(2955,(3219,(2932,(3385,(2844,(3395,(2675,(3087,((3100,(3366,(3327,(2871,(3136,((3203,(2768,(2730,(3019,(3007,(2772,(2996,(3107,(2984,(2662,(2783,(3313,((3319,(2845,(3097,(3191,(3199,(2751,(2921,(3072,(3002,(3214,(3253,(3016,(3013,(2687,(3041,(3209,(2846,(3118,(3034,(3039,(2881,(2840,(3225,(3377,(2958,(2914,(3260,(3046,(2787,(2733,(3262,(3011,(2797,(2684,(2701,(3005,(3170,(2665,(3160,(3212,(2785,(2951,(3079,(2708,(3302,(3027,(3403,(3287,(2823,(2672,(3111,(2976,(3274,(3258,(3296,(3422,(3089,(2780,(3353,((3188,(3140,((2875,(3154,(3386,(2720,(3017,(3261,(2894,(3360,(3288,((3204,(3411,(2712,(2989,(2753,(2716,(3406,(3240,(3316,(2748,(2936,(3198,((3355,(3335,(3179,(2781,(2901,(3106,((3265,(2970,(2765,(3070,(3206,(3391,((((((3115,(3021,(2973,(3344,((3416,(3120,(3146,(3239,(3247,(3419,(2853,(3102,(3169,(2992,(3297,(3150,(3252,(2793,(3397,(3049,(3277,(2939,(3267,(2674,(2863,(3330,((3332,(3145,(2937,(3182,(3035,(3351,(2796,(3434,(3185,(3396,(3172,(3152,(2869,(3101,(2991,(3051,(3291,(2742,(3132,(2719,(2661,(3350,(3347,(3320,(3201,(3076,(2833,(3060,(3113,(2828,(3378,(3381,(3082,(2778,(3298,(3148,(3306,(3280,(2904,(3272,(2876,(3116,(3088,((3372,(3181,(3180,(3131,(2930,(2732,(2902,(3251,(3197,(2975,(2857,(2799,(3105,(3354,(3218,(3122,(3200,((3216,(3141,(2861,(2776,(((1684,(3268,3407)4047)4048,(3037,(2691,2792)6472)6473)6474,(3271,2788)6481)6482)6483)6484)6485)6486,3053)6487)6488)6489)6490)6491)6492)6493)6494)6495)6496)6497)6498)6499)6500)6501)6502)6503)6504,2791)6505)6506)6507)6508)6509)6510)6511)6512)6513)6514)6515)6516)6517)6518)6519)6520)6521)6522)6523)6524)6525)6526)6527)6528)6529)6530)6531)6532)6533)6534)6535)6536)6537)6538)6539)6540)6541)6542)6543)6544)6545)6546)6547)6548,2849)6549)6550)6551)6552)6553)6554)6555)6556)6557)6558)6559)6560)6561)6562)6563)6564)6565)6566)6567)6568)6569)6570)6571,3038)6572)6573)6574)6575)6576,3321)6577,3224)6578,3345)6579,2950)6580,3299)6581)6582)6583)6584)6585)6586)6587,2770)6588)6589)6590)6591)6592)6593)6594,3342)6595)6596)6597)6598)6599)6600)6601)6602)6603)6604)6605)6606)6607,3094)6608)6609)6610)6611)6612)6613)6614)6615)6616)6617,2855)6618)6619)6620,2722)6621)6622)6623)6624)6625)6626)6627)6628)6629)6630)6631)6632)6633)6634)6635)6636)6637)6638)6639)6640)6641)6642)6643)6644)6645)6646)6647)6648)6649)6650)6651)6652)6653)6654)6655)6656)6657)6658)6659)6660)6661)6662)6663)6664)6665)6666)6667)6668)6669)6670)6671)6672)6673)6674)6675)6676)6677)6678)6679)6680,3112)6681)6682)6683)6684)6685)6686)6687)6688)6689)6690)6691)6692)6693,3337)6694)6695)6696)6697)6698)6699,2804)6700)6701)6702)6703)6704)6705)6706)6707)6708)6709)6710)6711)6712)6713)6714)6715)6716)6717)6718)6719)6720)6721)6722)6723)6724)6725)6726)6727)6728)6729)6730)6731)6732,2816)6733)6734)6735)6736)6737)6738)6739)6740)6741)6742)6743)6744)6745)6746)6747)6748)6749,3208)6750)6751,3171)6752)6753)6754)6755)6756)6757,1450)6758)6759)6760)6761)6762)6763)6764)6765)6766)6767)6768)6769,3192)6770)6771)6772)6773)6774)6775)6776)6777)6778)6779)6780)6781)6782)6783)6784)6785)6786)6787)6788)6789,3210)6790)6791)6792)6793)6794)6795)6796)6797)6798,3352)6799)6800)6801)6802)6803)6804)6805)6806)6807)6808,2990)6809)6810)6811)6812)6813)6814)6815)6816)6817)6818,2801)6819)6820)6821)6822)6823)6824)6825)6826)6827)6828)6829,2942)6830)6831)6832)6833)6834)6835,2883)6836)6837)6838)6839)6840)6841)6842)6843)6844)6845,2747)6846)6847)6848)6849,2900)6850)6851)6852)6853)6854)6855)6856)6857,2878)6858)6859)6860)6861)6862)6863,3099)6864)6865)6866)6867)6868)6869)6870)6871)6872)6873)6874)6875)6876)6877)6878)6879)6880)6881)6882,3418)6883)6884)6885)6886)6887)6888)6889)6890)6891)6892,3015)6893)6894)6895)6896)6897,1534)6898)6899)6900)6901)6902)6903)6904)6905)6906)6907)6908)6909,3334)6910,2882)6911)6912)6913)6914)6915,3235)6916)6917)6918)6919)6920)6921)6922)6923)6924)6925,2678)6926)6927)6928)6929,3323)6930)6931,2752)6932)6933)6934)6935,3165)6936)6937,2811)6938)6939)6940)6941)6942)6943)6944)6945)6946,3175)6947,3370)6948)6949)6950)6951,3305)6952)6953)6954)6955,2736)6956,2692)6957)6958)6959)6960,2971)6961)6962)6963)6964)6965)6966)6967)6968)6969)6970)6971)6972)6973)6974)6975)6976)6977)6978)6979)6980,3304)6981)6982,2860)6983)6984)6985)6986)6987)6988)6989,2998)6990)6991)6992)6993)6994,2922)6995)6996)6997)6998)6999)7000)7001)7002)7003)7004)7005)7006)7007)7008)7009)7010)7011)7012)7013)7014)7015)7016)7017)7018)7019)7020)7021)7022)7023)7024)7025)7026)7027)7028,1883)7029)7030)7031)7032)7033)7034)7035)7036)7037)7038)7039)7040)7041)7042)7043)7044)7045)7046)7047)7048)7049,1187)7050)7051)7052)7053)7054)7055)7056,1251)7057)7058)7059)7060)7061)7062)7063)7064)7065)7066)7067)7068)7069)7070)7071)7072)7073)7074)7075)7076)7077,1780)7078)7079)7080,1077)7081,1817)7082)7083)7084)7085,922)7086)7087)7088,1521)7089)7090)7091)7092)7093,1579)7094)7095)7096)7097)7098)7099)7100)7101)7102)7103,1038)7104)7105,1058)7106)7107)7108)7109)7110)7111)7112)7113,3006)7114)7115)7116)7117)7118)7119)7120)7121)7122)7123)7124)7125)7126)7127)7128)7129)7130)7131)7132,1836)7133)7134,1196)7135)7136)7137)7138)7139)7140)7141)7142)7143)7144)7145)7146)7147,1272)7148)7149,1312)7150)7151)7152)7153)7154)7155)7156)7157)7158)7159,1182)7160)7161)7162)7163)7164)7165)7166)7167)7168)7169)7170)7171)7172)7173)7174)7175)7176)7177)7178)7179)7180)7181)7182)7183)7184)7185)7186)7187)7188)7189)7190)7191)7192)7193)7194)7195)7196)7197)7198)7199)7200)7201)7202)7203)7204)7205)7206)7207)7208)7209)7210)7211)7212)7213)7214)7215)7216)7217)7218)7219)7220)7221)7222)7223)7224)7225)7226)7227)7228)7229)7230)7231)7232)7233)7234)7235)7236)7237)7238)7239)7240)7241)7242)7243)7244)7245)7246)7247)7248)7249)7250,916)7251)7252)7253)7254)7255)7256)7257)7258)7259)7260)7261)7262)7263)7264)7265)7266)7267)7268)7269)7270)7271)7272)7273)7274)7275)7276)7277)7278)7279)7280)7281)7282)7283)7284)7285)7286)7287)7288,1003)7289)7290)7291)7292)7293)7294)7295)7296)7297,966)7298)7299)7300)7301)7302)7303)7304)7305)7306)7307)7308)7309)7310)7311)7312)7313)7314)7315)7316)7317,960)7318)7319)7320)7321)7322)7323)7324)7325)7326)7327)7328)7329)7330)7331)7332)7333)7334)7335)7336,1242)7337)7338)7339)7340)7341)7342)7343)7344)7345)7346)7347)7348)7349)7350)7351)7352)7353)7354)7355)7356,1323)7357)7358)7359)7360)7361)7362)7363)7364)7365)7366)7367)7368)7369)7370)7371)7372)7373)7374)7375)7376)7377)7378)7379)7380)7381)7382)7383)7384,932)7385)7386)7387)7388)7389)7390)7391)7392)7393)7394)7395,1180)7396)7397)7398)7399)7400)7401)7402)7403)7404)7405)7406,1517)7407)7408)7409)7410)7411)7412)7413)7414)7415)7416,1407)7417)7418)7419,1821)7420,1039)7421)7422,1164)7423,1556)7424,1439)7425)7426)7427)7428)7429)7430)7431)7432)7433)7434)7435)7436)7437,1401)7438)7439)7440,1775)7441)7442)7443)7444)7445)7446,1651)7447)7448)7449)7450)7451,2842)8054)8055)8056)8057,3230)8058,(3147,(3127,(3074,((2817,2774)7473,3055)7474)7475)7476)7477)8065,(((3311,(2699,(2972,(3325,(3309,(2703,(3382,(3423,(3283,(3008,(2879,(2982,(3318,(2670,(2959,(3314,2767)7696)7697)7698)7699)7700)7701)7702)7703)7704)7705)7706)7707)7708)7709)7710)7711,2834)7712,((3143,(2963,(3059,(3045,((3269,(3333,(3436,(((3428,((3153,(3388,(3202,(3095,(2710,(2769,(3130,(3229,(3300,(3392,(2837,((2852,(2695,(2726,(3139,(2789,(2888,(2851,(2809,(2978,(2807,(3231,((2746,(3315,(3430,(3042,(3080,(3010,(3414,(2948,(2917,(3294,(2967,(3394,(3286,(3390,(3237,(2761,(2891,(3193,(2981,(3303,(3234,(2854,(2745,(3163,(2673,(2705,(2731,(2987,(3023,(3213,(3123,(3400,(3036,(3137,((3114,(3166,(3129,((2850,(2806,(2953,(3052,((3301,(2924,((2835,((3014,(2896,(2763,(3184,(3085,(2680,(2706,(3004,(3065,((2749,(2897,(3040,(2815,(3142,(3047,(2717,(2912,(2666,(2880,(3064,(2985,(3149,(3098,(2911,(3108,(2919,(2925,(2909,(2905,(3195,(2676,(2866,(2872,(2913,(3339,(2698,(3226,(2920,(2969,(3284,(2827,(3033,(3022,(2916,(3096,(3324,(2757,(2864,(3054,(3348,(2664,(3174,(2689,(2974,(2940,(3056,(2694,(2777,(2782,(2669,(2943,(2867,(2986,(2750,(3426,(2877,(2755,(2910,(2800,(2960,(2931,(3078,(3387,(2906,(2977,(2927,(3238,(3232,(3257,(2741,(2993,((3384,(2945,(3435,(3364,(2773,((3026,(2873,(2890,(2994,(2915,(3104,(3029,(2754,(2956,(3362,(2756,(3084,(3090,(2928,(2944,(2738,(2862,(3220,(2839,(2786,(2683,(3293,(3363,(2679,(3433,(3417,(3025,(3000,(3119,(2988,(3073,(2743,(2874,(2887,(3158,(3135,(2907,(2729,(2810,(2794,(2821,(3413,2766)7479)7480)7481)7482)7483)7484)7485)7486)7487)7488)7489)7490)7491)7492)7493)7494)7495)7496)7497)7498)7499)7500)7501)7502)7503)7504)7505)7506)7507)7508)7509)7510)7511)7512)7513)7514)7515)7516)7517)7518)7519)7520,2929)7521)7522)7523)7524)7525)7526,2966)7527)7528)7529)7530)7531)7532)7533)7534)7535)7536)7537)7538)7539)7540)7541)7542)7543)7544)7545)7546)7547)7548)7549)7550)7551)7552)7553)7554)7555)7556)7557)7558)7559)7560)7561)7562)7563)7564)7565)7566)7567)7568)7569)7570)7571)7572)7573)7574)7575)7576)7577)7578)7579)7580)7581)7582)7583)7584)7585)7586)7587)7588)7589)7590)7591)7592)7593)7594)7595)7596)7597)7598)7599,2681)7600)7601)7602)7603)7604)7605)7606)7607)7608)7609,3250)7610)7611,3399)7612)7613)7614,2908)7615)7616)7617)7618)7619,3228)7620)7621)7622)7623,3243)7624)7625)7626)7627)7628)7629)7630)7631)7632)7633)7634)7635)7636)7637)7638)7639)7640)7641)7642)7643)7644)7645)7646)7647)7648)7649)7650)7651)7652)7653)7654)7655)7656)7657)7658,2663)7659)7660)7661)7662)7663)7664)7665)7666)7667)7668)7669)7670,3092)7671)7672)7673)7674)7675)7676)7677)7678)7679)7680)7681)7682,3030)7683)7684,(3044,2884)7478)7685,3317)7686)7687)7688)7689,2899)7690)7691)7692)7693)7694,2798)7695)8066)8072)8075)8076;'"
      ]
     },
     "execution_count": 19,
     "metadata": {},
     "output_type": "execute_result"
    }
   ],
   "source": [
    "fc.format()"
   ]
  },
  {
   "cell_type": "code",
   "execution_count": 22,
   "metadata": {},
   "outputs": [
    {
     "name": "stdout",
     "output_type": "stream",
     "text": [
      "Help on class VertexClustering in module igraph.clustering:\n",
      "\n",
      "class VertexClustering(Clustering)\n",
      " |  The clustering of the vertex set of a graph.\n",
      " |  \n",
      " |  This class extends L{Clustering} by linking it to a specific L{Graph} object\n",
      " |  and by optionally storing the modularity score of the clustering.\n",
      " |  It also provides some handy methods like getting the subgraph corresponding\n",
      " |  to a cluster and such.\n",
      " |  \n",
      " |  @note: since this class is linked to a L{Graph}, destroying the graph by the\n",
      " |    C{del} operator does not free the memory occupied by the graph if there\n",
      " |    exists a L{VertexClustering} that references the L{Graph}.\n",
      " |  \n",
      " |  @undocumented: _formatted_cluster_iterator\n",
      " |  \n",
      " |  Method resolution order:\n",
      " |      VertexClustering\n",
      " |      Clustering\n",
      " |      builtins.object\n",
      " |  \n",
      " |  Methods defined here:\n",
      " |  \n",
      " |  __init__(self, graph, membership=None, modularity=None, params=None, modularity_params=None)\n",
      " |      Creates a clustering object for a given graph.\n",
      " |      \n",
      " |      @param graph: the graph that will be associated to the clustering\n",
      " |      @param membership: the membership list. The length of the list must\n",
      " |        be equal to the number of vertices in the graph. If C{None}, every\n",
      " |        vertex is assumed to belong to the same cluster.\n",
      " |      @param modularity: the modularity score of the clustering. If C{None},\n",
      " |        it will be calculated when needed.\n",
      " |      @param params: additional parameters to be stored in this object.\n",
      " |      @param modularity_params: arguments that should be passed to\n",
      " |        L{Graph.modularity} when the modularity is (re)calculated. If the\n",
      " |        original graph was weighted, you should pass a dictionary\n",
      " |        containing a C{weight} key with the appropriate value here.\n",
      " |  \n",
      " |  __plot__(self, context, bbox, palette, *args, **kwds)\n",
      " |      Plots the clustering to the given Cairo context in the given\n",
      " |      bounding box.\n",
      " |      \n",
      " |      This is done by calling L{Graph.__plot__()} with the same arguments, but\n",
      " |      coloring the graph vertices according to the current clustering (unless\n",
      " |      overridden by the C{vertex_color} argument explicitly).\n",
      " |      \n",
      " |      This method understands all the positional and keyword arguments that\n",
      " |      are understood by L{Graph.__plot__()}, only the differences will be\n",
      " |      highlighted here:\n",
      " |      \n",
      " |        - C{mark_groups}: whether to highlight some of the vertex groups by\n",
      " |          colored polygons. Besides the values accepted by L{Graph.__plot__}\n",
      " |          (i.e., a dict mapping colors to vertex indices, a list containing\n",
      " |          lists of vertex indices, or C{False}), the following are also\n",
      " |          accepted:\n",
      " |      \n",
      " |            - C{True}: all the groups will be highlighted, the colors matching\n",
      " |              the corresponding color indices from the current palette\n",
      " |              (see the C{palette} keyword argument of L{Graph.__plot__}.\n",
      " |      \n",
      " |            - A dict mapping cluster indices or tuples of vertex indices to\n",
      " |              color names.  The given clusters or vertex groups will be\n",
      " |              highlighted by the given colors.\n",
      " |      \n",
      " |            - A list of cluster indices. This is equivalent to passing a\n",
      " |              dict mapping numeric color indices from the current palette\n",
      " |              to cluster indices; therefore, the cluster referred to by element\n",
      " |              I{i} of the list will be highlighted by color I{i} from the\n",
      " |              palette.\n",
      " |      \n",
      " |          The value of the C{plotting.mark_groups} configuration key is also\n",
      " |          taken into account here; if that configuration key is C{True} and\n",
      " |          C{mark_groups} is not given explicitly, it will automatically be set\n",
      " |          to C{True}.\n",
      " |      \n",
      " |          In place of lists of vertex indices, you may also use L{VertexSeq}\n",
      " |          instances.\n",
      " |      \n",
      " |          In place of color names, you may also use color indices into the\n",
      " |          current palette. C{None} as a color name will mean that the\n",
      " |          corresponding group is ignored.\n",
      " |      \n",
      " |        - C{palette}: the palette used to resolve numeric color indices to RGBA\n",
      " |          values. By default, this is an instance of L{ClusterColoringPalette}.\n",
      " |      \n",
      " |      @see: L{Graph.__plot__()} for more supported keyword arguments.\n",
      " |  \n",
      " |  as_cover(self)\n",
      " |      Returns a L{VertexCover} that contains the same clusters as this\n",
      " |      clustering.\n",
      " |  \n",
      " |  cluster_graph(self, combine_vertices=None, combine_edges=None)\n",
      " |      Returns a graph where each cluster is contracted into a single\n",
      " |      vertex.\n",
      " |      \n",
      " |      In the resulting graph, vertex M{i} represents cluster M{i} in this\n",
      " |      clustering. Vertex M{i} and M{j} will be connected if there was\n",
      " |      at least one connected vertex pair M{(a, b)} in the original graph such\n",
      " |      that vertex M{a} was in cluster M{i} and vertex M{b} was in cluster\n",
      " |      M{j}.\n",
      " |      \n",
      " |      @param combine_vertices: specifies how to derive the attributes of\n",
      " |        the vertices in the new graph from the attributes of the old ones.\n",
      " |        See L{Graph.contract_vertices()} for more details.\n",
      " |      @param combine_edges: specifies how to derive the attributes of the\n",
      " |        edges in the new graph from the attributes of the old ones. See\n",
      " |        L{Graph.simplify()} for more details. If you specify C{False}\n",
      " |        here, edges will not be combined, and the number of edges between\n",
      " |        the vertices representing the original clusters will be equal to\n",
      " |        the number of edges between the members of those clusters in the\n",
      " |        original graph.\n",
      " |      \n",
      " |      @return: the new graph.\n",
      " |  \n",
      " |  crossing(self)\n",
      " |      Returns a boolean vector where element M{i} is C{True} iff edge\n",
      " |      M{i} lies between clusters, C{False} otherwise.\n",
      " |  \n",
      " |  giant(self)\n",
      " |      Returns the giant community of the clustered graph.\n",
      " |      \n",
      " |      The giant component a community for which no larger community exists.\n",
      " |      @note: there can be multiple giant communities, this method will return\n",
      " |        the copy of an arbitrary one if there are multiple giant communities.\n",
      " |      \n",
      " |      @return: a copy of the giant community.\n",
      " |      @precondition: the vertex set of the graph hasn't been modified since\n",
      " |        the moment the clustering was constructed.\n",
      " |  \n",
      " |  recalculate_modularity(self)\n",
      " |      Recalculates the stored modularity value.\n",
      " |      \n",
      " |      This method must be called before querying the modularity score of the\n",
      " |      clustering through the class member C{modularity} or C{q} if the\n",
      " |      graph has been modified (edges have been added or removed) since the\n",
      " |      creation of the L{VertexClustering} object.\n",
      " |      \n",
      " |      @return: the new modularity score\n",
      " |  \n",
      " |  subgraph(self, idx)\n",
      " |      Get the subgraph belonging to a given cluster.\n",
      " |      \n",
      " |      @param idx: the cluster index\n",
      " |      @return: a copy of the subgraph\n",
      " |      @precondition: the vertex set of the graph hasn't been modified since\n",
      " |        the moment the clustering was constructed.\n",
      " |  \n",
      " |  subgraphs(self)\n",
      " |      Gets all the subgraphs belonging to each of the clusters.\n",
      " |      \n",
      " |      @return: a list containing copies of the subgraphs\n",
      " |      @precondition: the vertex set of the graph hasn't been modified since\n",
      " |        the moment the clustering was constructed.\n",
      " |  \n",
      " |  ----------------------------------------------------------------------\n",
      " |  Class methods defined here:\n",
      " |  \n",
      " |  FromAttribute(graph, attribute, intervals=None, params=None) from builtins.type\n",
      " |      Creates a vertex clustering based on the value of a vertex attribute.\n",
      " |      \n",
      " |      Vertices having the same attribute will correspond to the same cluster.\n",
      " |      \n",
      " |      @param graph: the graph on which we are working\n",
      " |      @param attribute: name of the attribute on which the clustering\n",
      " |          is based.\n",
      " |      @param intervals: for numeric attributes, you can either pass a single\n",
      " |          number or a list of numbers here. A single number means that the\n",
      " |          vertices will be put in bins of that width and vertices ending up\n",
      " |          in the same bin will be in the same cluster. A list of numbers\n",
      " |          specify the bin positions explicitly; e.g., C{[10, 20, 30]} means\n",
      " |          that there will be four categories: vertices with the attribute\n",
      " |          value less than 10, between 10 and 20, between 20 and 30 and over 30.\n",
      " |          Intervals are closed from the left and open from the right.\n",
      " |      @param params: additional parameters to be stored in this object.\n",
      " |      \n",
      " |      @return: a new VertexClustering object\n",
      " |  \n",
      " |  ----------------------------------------------------------------------\n",
      " |  Data descriptors defined here:\n",
      " |  \n",
      " |  graph\n",
      " |      Returns the graph belonging to this object\n",
      " |  \n",
      " |  modularity\n",
      " |      Returns the modularity score\n",
      " |  \n",
      " |  q\n",
      " |      Returns the modularity score\n",
      " |  \n",
      " |  ----------------------------------------------------------------------\n",
      " |  Methods inherited from Clustering:\n",
      " |  \n",
      " |  __getitem__(self, idx)\n",
      " |      Returns the members of the specified cluster.\n",
      " |      \n",
      " |      @param idx: the index of the cluster\n",
      " |      @return: the members of the specified cluster as a list\n",
      " |      @raise IndexError: if the index is out of bounds\n",
      " |  \n",
      " |  __iter__(self)\n",
      " |      Iterates over the clusters in this clustering.\n",
      " |      \n",
      " |      This method will return a generator that generates the clusters\n",
      " |      one by one.\n",
      " |  \n",
      " |  __len__(self)\n",
      " |      Returns the number of clusters.\n",
      " |      \n",
      " |      @return: the number of clusters\n",
      " |  \n",
      " |  __str__(self)\n",
      " |      Return str(self).\n",
      " |  \n",
      " |  compare_to(self, other, *args, **kwds)\n",
      " |      Compares this clustering to another one using some similarity or\n",
      " |      distance metric.\n",
      " |      \n",
      " |      This is a convenience method that simply calls L{compare_communities}\n",
      " |      with the two clusterings as arguments. Any extra positional or keyword\n",
      " |      argument is also forwarded to L{compare_communities}.\n",
      " |  \n",
      " |  size(self, idx)\n",
      " |      Returns the size of a given cluster.\n",
      " |      \n",
      " |      @param idx: the cluster in which we are interested.\n",
      " |  \n",
      " |  size_histogram(self, bin_width=1)\n",
      " |      Returns the histogram of cluster sizes.\n",
      " |      \n",
      " |      @param bin_width: the bin width of the histogram\n",
      " |      @return: a L{Histogram} object\n",
      " |  \n",
      " |  sizes(self, *args)\n",
      " |      Returns the size of given clusters.\n",
      " |      \n",
      " |      The indices are given as positional arguments. If there are no\n",
      " |      positional arguments, the function will return the sizes of all clusters.\n",
      " |  \n",
      " |  summary(self, verbosity=0, width=None)\n",
      " |      Returns the summary of the clustering.\n",
      " |      \n",
      " |      The summary includes the number of items and clusters, and also the\n",
      " |      list of members for each of the clusters if the verbosity is nonzero.\n",
      " |      \n",
      " |      @param verbosity: determines whether the cluster members should be\n",
      " |        printed. Zero verbosity prints the number of items and clusters only.\n",
      " |      @return: the summary of the clustering as a string.\n",
      " |  \n",
      " |  ----------------------------------------------------------------------\n",
      " |  Data descriptors inherited from Clustering:\n",
      " |  \n",
      " |  __dict__\n",
      " |      dictionary for instance variables (if defined)\n",
      " |  \n",
      " |  __weakref__\n",
      " |      list of weak references to the object (if defined)\n",
      " |  \n",
      " |  membership\n",
      " |      Returns the membership vector.\n",
      " |  \n",
      " |  n\n",
      " |      Returns the number of elements covered by this clustering.\n",
      "\n"
     ]
    }
   ],
   "source": [
    "help(VertexClustering)"
   ]
  },
  {
   "cell_type": "code",
   "execution_count": 25,
   "metadata": {},
   "outputs": [
    {
     "data": {
      "text/plain": [
       "<igraph.Graph at 0x1041c8a98>"
      ]
     },
     "execution_count": 25,
     "metadata": {},
     "output_type": "execute_result"
    }
   ],
   "source": [
    "tmp.graph"
   ]
  },
  {
   "cell_type": "code",
   "execution_count": null,
   "metadata": {},
   "outputs": [],
   "source": []
  }
 ],
 "metadata": {
  "kernelspec": {
   "display_name": "Python 3",
   "language": "python",
   "name": "python3"
  },
  "language_info": {
   "codemirror_mode": {
    "name": "ipython",
    "version": 3
   },
   "file_extension": ".py",
   "mimetype": "text/x-python",
   "name": "python",
   "nbconvert_exporter": "python",
   "pygments_lexer": "ipython3",
   "version": "3.6.6"
  }
 },
 "nbformat": 4,
 "nbformat_minor": 2
}
